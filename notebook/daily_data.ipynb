{
 "cells": [
  {
   "cell_type": "code",
   "execution_count": 1,
   "metadata": {},
   "outputs": [],
   "source": [
    "import pandas as pd\n",
    "import os"
   ]
  },
  {
   "cell_type": "code",
   "execution_count": 2,
   "metadata": {},
   "outputs": [
    {
     "data": {
      "text/html": [
       "<div>\n",
       "<style scoped>\n",
       "    .dataframe tbody tr th:only-of-type {\n",
       "        vertical-align: middle;\n",
       "    }\n",
       "\n",
       "    .dataframe tbody tr th {\n",
       "        vertical-align: top;\n",
       "    }\n",
       "\n",
       "    .dataframe thead th {\n",
       "        text-align: right;\n",
       "    }\n",
       "</style>\n",
       "<table border=\"1\" class=\"dataframe\">\n",
       "  <thead>\n",
       "    <tr style=\"text-align: right;\">\n",
       "      <th></th>\n",
       "      <th>id_task</th>\n",
       "      <th>subject_task</th>\n",
       "      <th>description_task</th>\n",
       "      <th>sprint_id_task</th>\n",
       "      <th>sprint_task</th>\n",
       "      <th>sprint_estimated_start_task</th>\n",
       "      <th>sprint_estimated_finish_task</th>\n",
       "      <th>owner_task</th>\n",
       "      <th>owner_full_name_task</th>\n",
       "      <th>assigned_to_task</th>\n",
       "      <th>...</th>\n",
       "      <th>client_requirement_epic</th>\n",
       "      <th>team_requirement_epic</th>\n",
       "      <th>attachments</th>\n",
       "      <th>tags</th>\n",
       "      <th>watchers</th>\n",
       "      <th>voters</th>\n",
       "      <th>created_date</th>\n",
       "      <th>modified_date</th>\n",
       "      <th>epic_id</th>\n",
       "      <th>epic_name</th>\n",
       "    </tr>\n",
       "  </thead>\n",
       "  <tbody>\n",
       "    <tr>\n",
       "      <th>0</th>\n",
       "      <td>3</td>\n",
       "      <td>task</td>\n",
       "      <td>NaN</td>\n",
       "      <td>1</td>\n",
       "      <td>sprint1</td>\n",
       "      <td>2024-02-21</td>\n",
       "      <td>2024-03-06</td>\n",
       "      <td>admin</td>\n",
       "      <td>admin</td>\n",
       "      <td>admin</td>\n",
       "      <td>...</td>\n",
       "      <td>False</td>\n",
       "      <td>False</td>\n",
       "      <td>0</td>\n",
       "      <td>NaN</td>\n",
       "      <td>[]</td>\n",
       "      <td>0</td>\n",
       "      <td>2024-02-21 08:55:07.687307+00:00</td>\n",
       "      <td>2024-02-21 08:55:07.688703+00:00</td>\n",
       "      <td>11</td>\n",
       "      <td>location</td>\n",
       "    </tr>\n",
       "    <tr>\n",
       "      <th>1</th>\n",
       "      <td>4</td>\n",
       "      <td>admin_task_1</td>\n",
       "      <td>NaN</td>\n",
       "      <td>1</td>\n",
       "      <td>sprint1</td>\n",
       "      <td>2024-02-21</td>\n",
       "      <td>2024-03-06</td>\n",
       "      <td>admin</td>\n",
       "      <td>admin</td>\n",
       "      <td>admin</td>\n",
       "      <td>...</td>\n",
       "      <td>False</td>\n",
       "      <td>False</td>\n",
       "      <td>0</td>\n",
       "      <td>NaN</td>\n",
       "      <td>[]</td>\n",
       "      <td>0</td>\n",
       "      <td>2024-02-21 08:55:07.687307+00:00</td>\n",
       "      <td>2024-02-21 08:55:07.688703+00:00</td>\n",
       "      <td>11</td>\n",
       "      <td>location</td>\n",
       "    </tr>\n",
       "    <tr>\n",
       "      <th>2</th>\n",
       "      <td>5</td>\n",
       "      <td>wisit_task_1</td>\n",
       "      <td>NaN</td>\n",
       "      <td>1</td>\n",
       "      <td>sprint1</td>\n",
       "      <td>2024-02-21</td>\n",
       "      <td>2024-03-06</td>\n",
       "      <td>admin</td>\n",
       "      <td>admin</td>\n",
       "      <td>wisit</td>\n",
       "      <td>...</td>\n",
       "      <td>False</td>\n",
       "      <td>False</td>\n",
       "      <td>0</td>\n",
       "      <td>NaN</td>\n",
       "      <td>[]</td>\n",
       "      <td>0</td>\n",
       "      <td>2024-02-21 08:55:07.687307+00:00</td>\n",
       "      <td>2024-02-21 08:55:07.688703+00:00</td>\n",
       "      <td>11</td>\n",
       "      <td>location</td>\n",
       "    </tr>\n",
       "    <tr>\n",
       "      <th>3</th>\n",
       "      <td>6</td>\n",
       "      <td>admin_task_2</td>\n",
       "      <td>NaN</td>\n",
       "      <td>1</td>\n",
       "      <td>sprint1</td>\n",
       "      <td>2024-02-21</td>\n",
       "      <td>2024-03-06</td>\n",
       "      <td>admin</td>\n",
       "      <td>admin</td>\n",
       "      <td>admin</td>\n",
       "      <td>...</td>\n",
       "      <td>False</td>\n",
       "      <td>False</td>\n",
       "      <td>0</td>\n",
       "      <td>NaN</td>\n",
       "      <td>[]</td>\n",
       "      <td>0</td>\n",
       "      <td>2024-02-21 06:41:55.288362+00:00</td>\n",
       "      <td>2024-02-21 06:42:18.975346+00:00</td>\n",
       "      <td>5</td>\n",
       "      <td>test_epic</td>\n",
       "    </tr>\n",
       "    <tr>\n",
       "      <th>4</th>\n",
       "      <td>7</td>\n",
       "      <td>wisit_task_2</td>\n",
       "      <td>NaN</td>\n",
       "      <td>1</td>\n",
       "      <td>sprint1</td>\n",
       "      <td>2024-02-21</td>\n",
       "      <td>2024-03-06</td>\n",
       "      <td>admin</td>\n",
       "      <td>admin</td>\n",
       "      <td>wisit</td>\n",
       "      <td>...</td>\n",
       "      <td>False</td>\n",
       "      <td>False</td>\n",
       "      <td>0</td>\n",
       "      <td>NaN</td>\n",
       "      <td>[]</td>\n",
       "      <td>0</td>\n",
       "      <td>2024-02-21 06:41:55.288362+00:00</td>\n",
       "      <td>2024-02-21 06:42:18.975346+00:00</td>\n",
       "      <td>5</td>\n",
       "      <td>test_epic</td>\n",
       "    </tr>\n",
       "  </tbody>\n",
       "</table>\n",
       "<p>5 rows × 90 columns</p>\n",
       "</div>"
      ],
      "text/plain": [
       "   id_task  subject_task  description_task  sprint_id_task sprint_task  \\\n",
       "0        3          task               NaN               1     sprint1   \n",
       "1        4  admin_task_1               NaN               1     sprint1   \n",
       "2        5  wisit_task_1               NaN               1     sprint1   \n",
       "3        6  admin_task_2               NaN               1     sprint1   \n",
       "4        7  wisit_task_2               NaN               1     sprint1   \n",
       "\n",
       "  sprint_estimated_start_task sprint_estimated_finish_task owner_task  \\\n",
       "0                  2024-02-21                   2024-03-06      admin   \n",
       "1                  2024-02-21                   2024-03-06      admin   \n",
       "2                  2024-02-21                   2024-03-06      admin   \n",
       "3                  2024-02-21                   2024-03-06      admin   \n",
       "4                  2024-02-21                   2024-03-06      admin   \n",
       "\n",
       "  owner_full_name_task assigned_to_task  ... client_requirement_epic  \\\n",
       "0                admin            admin  ...                   False   \n",
       "1                admin            admin  ...                   False   \n",
       "2                admin            wisit  ...                   False   \n",
       "3                admin            admin  ...                   False   \n",
       "4                admin            wisit  ...                   False   \n",
       "\n",
       "  team_requirement_epic  attachments  tags  watchers  voters  \\\n",
       "0                 False            0   NaN        []       0   \n",
       "1                 False            0   NaN        []       0   \n",
       "2                 False            0   NaN        []       0   \n",
       "3                 False            0   NaN        []       0   \n",
       "4                 False            0   NaN        []       0   \n",
       "\n",
       "                       created_date                     modified_date  \\\n",
       "0  2024-02-21 08:55:07.687307+00:00  2024-02-21 08:55:07.688703+00:00   \n",
       "1  2024-02-21 08:55:07.687307+00:00  2024-02-21 08:55:07.688703+00:00   \n",
       "2  2024-02-21 08:55:07.687307+00:00  2024-02-21 08:55:07.688703+00:00   \n",
       "3  2024-02-21 06:41:55.288362+00:00  2024-02-21 06:42:18.975346+00:00   \n",
       "4  2024-02-21 06:41:55.288362+00:00  2024-02-21 06:42:18.975346+00:00   \n",
       "\n",
       "   epic_id  epic_name  \n",
       "0       11   location  \n",
       "1       11   location  \n",
       "2       11   location  \n",
       "3        5  test_epic  \n",
       "4        5  test_epic  \n",
       "\n",
       "[5 rows x 90 columns]"
      ]
     },
     "execution_count": 2,
     "metadata": {},
     "output_type": "execute_result"
    }
   ],
   "source": [
    "dir_path = os.getcwd()\n",
    "merge_data_path = f\"{dir_path}/merge_data.xlsx\"\n",
    "merge_data_df = pd.read_excel(merge_data_path, sheet_name=\"merge_data\")\n",
    "merge_data_df.head()"
   ]
  },
  {
   "cell_type": "code",
   "execution_count": 3,
   "metadata": {},
   "outputs": [
    {
     "data": {
      "text/plain": [
       "['admin', 'wisit']"
      ]
     },
     "execution_count": 3,
     "metadata": {},
     "output_type": "execute_result"
    }
   ],
   "source": [
    "assignee_list = merge_data_df[\"assigned_to_task\"].unique().tolist()\n",
    "assignee_list"
   ]
  },
  {
   "cell_type": "code",
   "execution_count": 4,
   "metadata": {},
   "outputs": [
    {
     "data": {
      "text/plain": [
       "['location', 'test_epic']"
      ]
     },
     "execution_count": 4,
     "metadata": {},
     "output_type": "execute_result"
    }
   ],
   "source": [
    "epic_name_list = merge_data_df[\"epic_name\"].unique().tolist()\n",
    "epic_name_list"
   ]
  },
  {
   "cell_type": "code",
   "execution_count": 5,
   "metadata": {},
   "outputs": [
    {
     "data": {
      "text/plain": [
       "('2024-01-24', '2024-02-29')"
      ]
     },
     "execution_count": 5,
     "metadata": {},
     "output_type": "execute_result"
    }
   ],
   "source": [
    "min_date = merge_data_df[\"start date\"].min()\n",
    "max_date = merge_data_df[\"end date\"].max()\n",
    "min_date, max_date"
   ]
  },
  {
   "cell_type": "code",
   "execution_count": 6,
   "metadata": {},
   "outputs": [
    {
     "data": {
      "text/plain": [
       "1"
      ]
     },
     "execution_count": 6,
     "metadata": {},
     "output_type": "execute_result"
    }
   ],
   "source": [
    "def validate_start_date_end_date(date, holiday_list):\n",
    "    # if start_date is weekend, then change to next Monday\n",
    "    if date.weekday() in [5, 6]:\n",
    "        date = date + pd.Timedelta(days=(7 - date.weekday()))\n",
    "    while date in holiday_list:\n",
    "        date = date + pd.Timedelta(days=1)\n",
    "    return date\n",
    "\n",
    "\n",
    "def get_holiday_list():\n",
    "    holiday_list = [\n",
    "        \"2024/01/01\",\n",
    "        \"2024/02/12\",\n",
    "        \"2024/02/26\",\n",
    "        \"2024/04/08\",\n",
    "        \"2024/04/15\",\n",
    "        \"2024/04/16\",\n",
    "        \"2024/05/01\",\n",
    "        \"2024/05/06\",\n",
    "        \"2024/05/22\",\n",
    "        \"2024/06/03\",\n",
    "        \"2024/07/22\",\n",
    "        \"2024/07/29\",\n",
    "        \"2024/08/12\",\n",
    "        \"2024/10/14\",\n",
    "        \"2024/10/23\",\n",
    "        \"2024/12/05\",\n",
    "        \"2024/12/10\",\n",
    "        \"2024/12/31\",\n",
    "    ]\n",
    "    holiday_list = [pd.to_datetime(date) for date in holiday_list]\n",
    "    # holiday_list = []\n",
    "    return holiday_list\n",
    "\n",
    "\n",
    "def get_work_day(start_date, end_date, holiday_list=[]):\n",
    "    # count when it is not weekend\n",
    "    date_range = pd.date_range(start=start_date, end=end_date)\n",
    "    work_day = 0\n",
    "    for date in date_range:\n",
    "        if date in holiday_list:\n",
    "            continue\n",
    "        if date.weekday() in [5, 6]:\n",
    "            continue\n",
    "        work_day += 1\n",
    "    if work_day == 0:\n",
    "        work_day = 1\n",
    "    return work_day\n",
    "\n",
    "\n",
    "start_date = \"15/01/2024\"\n",
    "end_date = \"14/01/2024\"\n",
    "holiday_list = get_holiday_list()\n",
    "start_date = pd.to_datetime(start_date, format=\"%d/%m/%Y\")\n",
    "end_date = pd.to_datetime(end_date, format=\"%d/%m/%Y\")\n",
    "get_work_day(\n",
    "    start_date,\n",
    "    end_date,\n",
    "    holiday_list,\n",
    ")"
   ]
  },
  {
   "cell_type": "code",
   "execution_count": 7,
   "metadata": {},
   "outputs": [
    {
     "data": {
      "text/plain": [
       "pandas._libs.tslibs.timestamps.Timestamp"
      ]
     },
     "execution_count": 7,
     "metadata": {},
     "output_type": "execute_result"
    }
   ],
   "source": [
    "type(start_date)"
   ]
  },
  {
   "cell_type": "code",
   "execution_count": 8,
   "metadata": {},
   "outputs": [
    {
     "name": "stdout",
     "output_type": "stream",
     "text": [
      "318.99999999999994\n"
     ]
    },
    {
     "data": {
      "text/html": [
       "<div>\n",
       "<style scoped>\n",
       "    .dataframe tbody tr th:only-of-type {\n",
       "        vertical-align: middle;\n",
       "    }\n",
       "\n",
       "    .dataframe tbody tr th {\n",
       "        vertical-align: top;\n",
       "    }\n",
       "\n",
       "    .dataframe thead th {\n",
       "        text-align: right;\n",
       "    }\n",
       "</style>\n",
       "<table border=\"1\" class=\"dataframe\">\n",
       "  <thead>\n",
       "    <tr style=\"text-align: right;\">\n",
       "      <th></th>\n",
       "      <th>date</th>\n",
       "      <th>assignee</th>\n",
       "      <th>epic_name</th>\n",
       "      <th>task_id</th>\n",
       "      <th>hour</th>\n",
       "    </tr>\n",
       "  </thead>\n",
       "  <tbody>\n",
       "    <tr>\n",
       "      <th>0</th>\n",
       "      <td>2024-01-24</td>\n",
       "      <td>admin</td>\n",
       "      <td>location</td>\n",
       "      <td>10</td>\n",
       "      <td>0.333333</td>\n",
       "    </tr>\n",
       "    <tr>\n",
       "      <th>1</th>\n",
       "      <td>2024-01-25</td>\n",
       "      <td>admin</td>\n",
       "      <td>location</td>\n",
       "      <td>10</td>\n",
       "      <td>0.333333</td>\n",
       "    </tr>\n",
       "    <tr>\n",
       "      <th>2</th>\n",
       "      <td>2024-01-26</td>\n",
       "      <td>admin</td>\n",
       "      <td>location</td>\n",
       "      <td>10</td>\n",
       "      <td>0.333333</td>\n",
       "    </tr>\n",
       "    <tr>\n",
       "      <th>3</th>\n",
       "      <td>2024-01-29</td>\n",
       "      <td>admin</td>\n",
       "      <td>location</td>\n",
       "      <td>10</td>\n",
       "      <td>0.333333</td>\n",
       "    </tr>\n",
       "    <tr>\n",
       "      <th>4</th>\n",
       "      <td>2024-01-30</td>\n",
       "      <td>admin</td>\n",
       "      <td>location</td>\n",
       "      <td>10</td>\n",
       "      <td>0.333333</td>\n",
       "    </tr>\n",
       "    <tr>\n",
       "      <th>5</th>\n",
       "      <td>2024-01-31</td>\n",
       "      <td>admin</td>\n",
       "      <td>location</td>\n",
       "      <td>10</td>\n",
       "      <td>0.333333</td>\n",
       "    </tr>\n",
       "    <tr>\n",
       "      <th>6</th>\n",
       "      <td>2024-02-15</td>\n",
       "      <td>admin</td>\n",
       "      <td>location</td>\n",
       "      <td>12</td>\n",
       "      <td>2.000000</td>\n",
       "    </tr>\n",
       "    <tr>\n",
       "      <th>7</th>\n",
       "      <td>2024-02-16</td>\n",
       "      <td>admin</td>\n",
       "      <td>location</td>\n",
       "      <td>12</td>\n",
       "      <td>2.000000</td>\n",
       "    </tr>\n",
       "    <tr>\n",
       "      <th>8</th>\n",
       "      <td>2024-02-19</td>\n",
       "      <td>admin</td>\n",
       "      <td>location</td>\n",
       "      <td>12</td>\n",
       "      <td>2.000000</td>\n",
       "    </tr>\n",
       "    <tr>\n",
       "      <th>9</th>\n",
       "      <td>2024-02-20</td>\n",
       "      <td>admin</td>\n",
       "      <td>location</td>\n",
       "      <td>12</td>\n",
       "      <td>2.000000</td>\n",
       "    </tr>\n",
       "    <tr>\n",
       "      <th>10</th>\n",
       "      <td>2024-02-21</td>\n",
       "      <td>admin</td>\n",
       "      <td>location</td>\n",
       "      <td>12</td>\n",
       "      <td>2.000000</td>\n",
       "    </tr>\n",
       "    <tr>\n",
       "      <th>11</th>\n",
       "      <td>2024-02-22</td>\n",
       "      <td>admin</td>\n",
       "      <td>location</td>\n",
       "      <td>12</td>\n",
       "      <td>2.000000</td>\n",
       "    </tr>\n",
       "    <tr>\n",
       "      <th>12</th>\n",
       "      <td>2024-02-19</td>\n",
       "      <td>wisit</td>\n",
       "      <td>location</td>\n",
       "      <td>13</td>\n",
       "      <td>3.000000</td>\n",
       "    </tr>\n",
       "    <tr>\n",
       "      <th>13</th>\n",
       "      <td>2024-02-20</td>\n",
       "      <td>wisit</td>\n",
       "      <td>location</td>\n",
       "      <td>13</td>\n",
       "      <td>3.000000</td>\n",
       "    </tr>\n",
       "    <tr>\n",
       "      <th>14</th>\n",
       "      <td>2024-02-21</td>\n",
       "      <td>wisit</td>\n",
       "      <td>location</td>\n",
       "      <td>13</td>\n",
       "      <td>3.000000</td>\n",
       "    </tr>\n",
       "    <tr>\n",
       "      <th>15</th>\n",
       "      <td>2024-02-22</td>\n",
       "      <td>wisit</td>\n",
       "      <td>location</td>\n",
       "      <td>13</td>\n",
       "      <td>3.000000</td>\n",
       "    </tr>\n",
       "    <tr>\n",
       "      <th>16</th>\n",
       "      <td>2024-02-23</td>\n",
       "      <td>wisit</td>\n",
       "      <td>location</td>\n",
       "      <td>13</td>\n",
       "      <td>3.000000</td>\n",
       "    </tr>\n",
       "    <tr>\n",
       "      <th>17</th>\n",
       "      <td>2024-02-08</td>\n",
       "      <td>admin</td>\n",
       "      <td>test_epic</td>\n",
       "      <td>14</td>\n",
       "      <td>10.000000</td>\n",
       "    </tr>\n",
       "    <tr>\n",
       "      <th>18</th>\n",
       "      <td>2024-02-09</td>\n",
       "      <td>admin</td>\n",
       "      <td>test_epic</td>\n",
       "      <td>14</td>\n",
       "      <td>10.000000</td>\n",
       "    </tr>\n",
       "    <tr>\n",
       "      <th>19</th>\n",
       "      <td>2024-02-13</td>\n",
       "      <td>admin</td>\n",
       "      <td>test_epic</td>\n",
       "      <td>14</td>\n",
       "      <td>10.000000</td>\n",
       "    </tr>\n",
       "    <tr>\n",
       "      <th>20</th>\n",
       "      <td>2024-02-14</td>\n",
       "      <td>admin</td>\n",
       "      <td>test_epic</td>\n",
       "      <td>14</td>\n",
       "      <td>10.000000</td>\n",
       "    </tr>\n",
       "    <tr>\n",
       "      <th>21</th>\n",
       "      <td>2024-02-15</td>\n",
       "      <td>admin</td>\n",
       "      <td>test_epic</td>\n",
       "      <td>14</td>\n",
       "      <td>10.000000</td>\n",
       "    </tr>\n",
       "    <tr>\n",
       "      <th>22</th>\n",
       "      <td>2024-02-16</td>\n",
       "      <td>admin</td>\n",
       "      <td>test_epic</td>\n",
       "      <td>14</td>\n",
       "      <td>10.000000</td>\n",
       "    </tr>\n",
       "    <tr>\n",
       "      <th>23</th>\n",
       "      <td>2024-02-19</td>\n",
       "      <td>admin</td>\n",
       "      <td>test_epic</td>\n",
       "      <td>14</td>\n",
       "      <td>10.000000</td>\n",
       "    </tr>\n",
       "    <tr>\n",
       "      <th>24</th>\n",
       "      <td>2024-02-20</td>\n",
       "      <td>admin</td>\n",
       "      <td>test_epic</td>\n",
       "      <td>14</td>\n",
       "      <td>10.000000</td>\n",
       "    </tr>\n",
       "    <tr>\n",
       "      <th>25</th>\n",
       "      <td>2024-02-21</td>\n",
       "      <td>admin</td>\n",
       "      <td>test_epic</td>\n",
       "      <td>14</td>\n",
       "      <td>10.000000</td>\n",
       "    </tr>\n",
       "    <tr>\n",
       "      <th>26</th>\n",
       "      <td>2024-02-22</td>\n",
       "      <td>admin</td>\n",
       "      <td>test_epic</td>\n",
       "      <td>14</td>\n",
       "      <td>10.000000</td>\n",
       "    </tr>\n",
       "    <tr>\n",
       "      <th>27</th>\n",
       "      <td>2024-02-19</td>\n",
       "      <td>wisit</td>\n",
       "      <td>test_epic</td>\n",
       "      <td>15</td>\n",
       "      <td>8.333333</td>\n",
       "    </tr>\n",
       "    <tr>\n",
       "      <th>28</th>\n",
       "      <td>2024-02-20</td>\n",
       "      <td>wisit</td>\n",
       "      <td>test_epic</td>\n",
       "      <td>15</td>\n",
       "      <td>8.333333</td>\n",
       "    </tr>\n",
       "    <tr>\n",
       "      <th>29</th>\n",
       "      <td>2024-02-21</td>\n",
       "      <td>wisit</td>\n",
       "      <td>test_epic</td>\n",
       "      <td>15</td>\n",
       "      <td>8.333333</td>\n",
       "    </tr>\n",
       "    <tr>\n",
       "      <th>30</th>\n",
       "      <td>2024-02-22</td>\n",
       "      <td>wisit</td>\n",
       "      <td>test_epic</td>\n",
       "      <td>15</td>\n",
       "      <td>8.333333</td>\n",
       "    </tr>\n",
       "    <tr>\n",
       "      <th>31</th>\n",
       "      <td>2024-02-23</td>\n",
       "      <td>wisit</td>\n",
       "      <td>test_epic</td>\n",
       "      <td>15</td>\n",
       "      <td>8.333333</td>\n",
       "    </tr>\n",
       "    <tr>\n",
       "      <th>32</th>\n",
       "      <td>2024-02-27</td>\n",
       "      <td>wisit</td>\n",
       "      <td>test_epic</td>\n",
       "      <td>15</td>\n",
       "      <td>8.333333</td>\n",
       "    </tr>\n",
       "    <tr>\n",
       "      <th>33</th>\n",
       "      <td>2024-02-15</td>\n",
       "      <td>admin</td>\n",
       "      <td>location</td>\n",
       "      <td>16</td>\n",
       "      <td>6.000000</td>\n",
       "    </tr>\n",
       "    <tr>\n",
       "      <th>34</th>\n",
       "      <td>2024-02-16</td>\n",
       "      <td>admin</td>\n",
       "      <td>location</td>\n",
       "      <td>16</td>\n",
       "      <td>6.000000</td>\n",
       "    </tr>\n",
       "    <tr>\n",
       "      <th>35</th>\n",
       "      <td>2024-02-19</td>\n",
       "      <td>admin</td>\n",
       "      <td>location</td>\n",
       "      <td>16</td>\n",
       "      <td>6.000000</td>\n",
       "    </tr>\n",
       "    <tr>\n",
       "      <th>36</th>\n",
       "      <td>2024-02-20</td>\n",
       "      <td>admin</td>\n",
       "      <td>location</td>\n",
       "      <td>16</td>\n",
       "      <td>6.000000</td>\n",
       "    </tr>\n",
       "    <tr>\n",
       "      <th>37</th>\n",
       "      <td>2024-02-21</td>\n",
       "      <td>admin</td>\n",
       "      <td>location</td>\n",
       "      <td>16</td>\n",
       "      <td>6.000000</td>\n",
       "    </tr>\n",
       "    <tr>\n",
       "      <th>38</th>\n",
       "      <td>2024-02-22</td>\n",
       "      <td>admin</td>\n",
       "      <td>location</td>\n",
       "      <td>16</td>\n",
       "      <td>6.000000</td>\n",
       "    </tr>\n",
       "    <tr>\n",
       "      <th>39</th>\n",
       "      <td>2024-02-23</td>\n",
       "      <td>admin</td>\n",
       "      <td>location</td>\n",
       "      <td>16</td>\n",
       "      <td>6.000000</td>\n",
       "    </tr>\n",
       "    <tr>\n",
       "      <th>40</th>\n",
       "      <td>2024-02-27</td>\n",
       "      <td>admin</td>\n",
       "      <td>location</td>\n",
       "      <td>16</td>\n",
       "      <td>6.000000</td>\n",
       "    </tr>\n",
       "    <tr>\n",
       "      <th>41</th>\n",
       "      <td>2024-02-28</td>\n",
       "      <td>admin</td>\n",
       "      <td>location</td>\n",
       "      <td>16</td>\n",
       "      <td>6.000000</td>\n",
       "    </tr>\n",
       "    <tr>\n",
       "      <th>42</th>\n",
       "      <td>2024-02-29</td>\n",
       "      <td>admin</td>\n",
       "      <td>location</td>\n",
       "      <td>16</td>\n",
       "      <td>6.000000</td>\n",
       "    </tr>\n",
       "    <tr>\n",
       "      <th>43</th>\n",
       "      <td>2024-02-13</td>\n",
       "      <td>wisit</td>\n",
       "      <td>test_epic</td>\n",
       "      <td>17</td>\n",
       "      <td>3.750000</td>\n",
       "    </tr>\n",
       "    <tr>\n",
       "      <th>44</th>\n",
       "      <td>2024-02-14</td>\n",
       "      <td>wisit</td>\n",
       "      <td>test_epic</td>\n",
       "      <td>17</td>\n",
       "      <td>3.750000</td>\n",
       "    </tr>\n",
       "    <tr>\n",
       "      <th>45</th>\n",
       "      <td>2024-02-15</td>\n",
       "      <td>wisit</td>\n",
       "      <td>test_epic</td>\n",
       "      <td>17</td>\n",
       "      <td>3.750000</td>\n",
       "    </tr>\n",
       "    <tr>\n",
       "      <th>46</th>\n",
       "      <td>2024-02-16</td>\n",
       "      <td>wisit</td>\n",
       "      <td>test_epic</td>\n",
       "      <td>17</td>\n",
       "      <td>3.750000</td>\n",
       "    </tr>\n",
       "    <tr>\n",
       "      <th>47</th>\n",
       "      <td>2024-02-19</td>\n",
       "      <td>wisit</td>\n",
       "      <td>test_epic</td>\n",
       "      <td>17</td>\n",
       "      <td>3.750000</td>\n",
       "    </tr>\n",
       "    <tr>\n",
       "      <th>48</th>\n",
       "      <td>2024-02-20</td>\n",
       "      <td>wisit</td>\n",
       "      <td>test_epic</td>\n",
       "      <td>17</td>\n",
       "      <td>3.750000</td>\n",
       "    </tr>\n",
       "    <tr>\n",
       "      <th>49</th>\n",
       "      <td>2024-02-21</td>\n",
       "      <td>wisit</td>\n",
       "      <td>test_epic</td>\n",
       "      <td>17</td>\n",
       "      <td>3.750000</td>\n",
       "    </tr>\n",
       "    <tr>\n",
       "      <th>50</th>\n",
       "      <td>2024-02-22</td>\n",
       "      <td>wisit</td>\n",
       "      <td>test_epic</td>\n",
       "      <td>17</td>\n",
       "      <td>3.750000</td>\n",
       "    </tr>\n",
       "    <tr>\n",
       "      <th>51</th>\n",
       "      <td>2024-02-15</td>\n",
       "      <td>admin</td>\n",
       "      <td>test_epic</td>\n",
       "      <td>18</td>\n",
       "      <td>5.555556</td>\n",
       "    </tr>\n",
       "    <tr>\n",
       "      <th>52</th>\n",
       "      <td>2024-02-16</td>\n",
       "      <td>admin</td>\n",
       "      <td>test_epic</td>\n",
       "      <td>18</td>\n",
       "      <td>5.555556</td>\n",
       "    </tr>\n",
       "    <tr>\n",
       "      <th>53</th>\n",
       "      <td>2024-02-19</td>\n",
       "      <td>admin</td>\n",
       "      <td>test_epic</td>\n",
       "      <td>18</td>\n",
       "      <td>5.555556</td>\n",
       "    </tr>\n",
       "    <tr>\n",
       "      <th>54</th>\n",
       "      <td>2024-02-20</td>\n",
       "      <td>admin</td>\n",
       "      <td>test_epic</td>\n",
       "      <td>18</td>\n",
       "      <td>5.555556</td>\n",
       "    </tr>\n",
       "    <tr>\n",
       "      <th>55</th>\n",
       "      <td>2024-02-21</td>\n",
       "      <td>admin</td>\n",
       "      <td>test_epic</td>\n",
       "      <td>18</td>\n",
       "      <td>5.555556</td>\n",
       "    </tr>\n",
       "    <tr>\n",
       "      <th>56</th>\n",
       "      <td>2024-02-22</td>\n",
       "      <td>admin</td>\n",
       "      <td>test_epic</td>\n",
       "      <td>18</td>\n",
       "      <td>5.555556</td>\n",
       "    </tr>\n",
       "    <tr>\n",
       "      <th>57</th>\n",
       "      <td>2024-02-23</td>\n",
       "      <td>admin</td>\n",
       "      <td>test_epic</td>\n",
       "      <td>18</td>\n",
       "      <td>5.555556</td>\n",
       "    </tr>\n",
       "    <tr>\n",
       "      <th>58</th>\n",
       "      <td>2024-02-27</td>\n",
       "      <td>admin</td>\n",
       "      <td>test_epic</td>\n",
       "      <td>18</td>\n",
       "      <td>5.555556</td>\n",
       "    </tr>\n",
       "    <tr>\n",
       "      <th>59</th>\n",
       "      <td>2024-02-28</td>\n",
       "      <td>admin</td>\n",
       "      <td>test_epic</td>\n",
       "      <td>18</td>\n",
       "      <td>5.555556</td>\n",
       "    </tr>\n",
       "  </tbody>\n",
       "</table>\n",
       "</div>"
      ],
      "text/plain": [
       "         date assignee  epic_name  task_id       hour\n",
       "0  2024-01-24    admin   location       10   0.333333\n",
       "1  2024-01-25    admin   location       10   0.333333\n",
       "2  2024-01-26    admin   location       10   0.333333\n",
       "3  2024-01-29    admin   location       10   0.333333\n",
       "4  2024-01-30    admin   location       10   0.333333\n",
       "5  2024-01-31    admin   location       10   0.333333\n",
       "6  2024-02-15    admin   location       12   2.000000\n",
       "7  2024-02-16    admin   location       12   2.000000\n",
       "8  2024-02-19    admin   location       12   2.000000\n",
       "9  2024-02-20    admin   location       12   2.000000\n",
       "10 2024-02-21    admin   location       12   2.000000\n",
       "11 2024-02-22    admin   location       12   2.000000\n",
       "12 2024-02-19    wisit   location       13   3.000000\n",
       "13 2024-02-20    wisit   location       13   3.000000\n",
       "14 2024-02-21    wisit   location       13   3.000000\n",
       "15 2024-02-22    wisit   location       13   3.000000\n",
       "16 2024-02-23    wisit   location       13   3.000000\n",
       "17 2024-02-08    admin  test_epic       14  10.000000\n",
       "18 2024-02-09    admin  test_epic       14  10.000000\n",
       "19 2024-02-13    admin  test_epic       14  10.000000\n",
       "20 2024-02-14    admin  test_epic       14  10.000000\n",
       "21 2024-02-15    admin  test_epic       14  10.000000\n",
       "22 2024-02-16    admin  test_epic       14  10.000000\n",
       "23 2024-02-19    admin  test_epic       14  10.000000\n",
       "24 2024-02-20    admin  test_epic       14  10.000000\n",
       "25 2024-02-21    admin  test_epic       14  10.000000\n",
       "26 2024-02-22    admin  test_epic       14  10.000000\n",
       "27 2024-02-19    wisit  test_epic       15   8.333333\n",
       "28 2024-02-20    wisit  test_epic       15   8.333333\n",
       "29 2024-02-21    wisit  test_epic       15   8.333333\n",
       "30 2024-02-22    wisit  test_epic       15   8.333333\n",
       "31 2024-02-23    wisit  test_epic       15   8.333333\n",
       "32 2024-02-27    wisit  test_epic       15   8.333333\n",
       "33 2024-02-15    admin   location       16   6.000000\n",
       "34 2024-02-16    admin   location       16   6.000000\n",
       "35 2024-02-19    admin   location       16   6.000000\n",
       "36 2024-02-20    admin   location       16   6.000000\n",
       "37 2024-02-21    admin   location       16   6.000000\n",
       "38 2024-02-22    admin   location       16   6.000000\n",
       "39 2024-02-23    admin   location       16   6.000000\n",
       "40 2024-02-27    admin   location       16   6.000000\n",
       "41 2024-02-28    admin   location       16   6.000000\n",
       "42 2024-02-29    admin   location       16   6.000000\n",
       "43 2024-02-13    wisit  test_epic       17   3.750000\n",
       "44 2024-02-14    wisit  test_epic       17   3.750000\n",
       "45 2024-02-15    wisit  test_epic       17   3.750000\n",
       "46 2024-02-16    wisit  test_epic       17   3.750000\n",
       "47 2024-02-19    wisit  test_epic       17   3.750000\n",
       "48 2024-02-20    wisit  test_epic       17   3.750000\n",
       "49 2024-02-21    wisit  test_epic       17   3.750000\n",
       "50 2024-02-22    wisit  test_epic       17   3.750000\n",
       "51 2024-02-15    admin  test_epic       18   5.555556\n",
       "52 2024-02-16    admin  test_epic       18   5.555556\n",
       "53 2024-02-19    admin  test_epic       18   5.555556\n",
       "54 2024-02-20    admin  test_epic       18   5.555556\n",
       "55 2024-02-21    admin  test_epic       18   5.555556\n",
       "56 2024-02-22    admin  test_epic       18   5.555556\n",
       "57 2024-02-23    admin  test_epic       18   5.555556\n",
       "58 2024-02-27    admin  test_epic       18   5.555556\n",
       "59 2024-02-28    admin  test_epic       18   5.555556"
      ]
     },
     "execution_count": 8,
     "metadata": {},
     "output_type": "execute_result"
    }
   ],
   "source": [
    "# from merge_data_df get actual time and start date, end date\n",
    "task_daily_list = []\n",
    "\n",
    "holiday_list = get_holiday_list()\n",
    "for index, row in merge_data_df.iterrows():\n",
    "    start_date = pd.to_datetime(row[\"start date\"])\n",
    "    end_date = pd.to_datetime(row[\"end date\"])\n",
    "    start_date = validate_start_date_end_date(start_date, holiday_list)\n",
    "    end_date = validate_start_date_end_date(end_date, holiday_list)\n",
    "    if end_date < start_date:\n",
    "        end_date = start_date\n",
    "    assignee = row[\"assigned_to_task\"]\n",
    "    epic_name = row[\"epic_name\"]\n",
    "    task_id = row[\"task_id\"]\n",
    "    actual_time = row[\"actual time\"]\n",
    "    total_date = get_work_day(start_date, end_date, holiday_list)\n",
    "    hour = actual_time / total_date\n",
    "    date_range = pd.date_range(start=start_date, end=end_date)\n",
    "    for date in date_range:\n",
    "        if date.weekday() in [5, 6]:\n",
    "            continue\n",
    "        if date in holiday_list:\n",
    "            continue\n",
    "        task_daily_list.append(\n",
    "            {\n",
    "                \"date\": date,\n",
    "                \"assignee\": assignee,\n",
    "                \"epic_name\": epic_name,\n",
    "                \"task_id\": task_id,\n",
    "                \"hour\": hour,\n",
    "            }\n",
    "        )\n",
    "task_daily_df = pd.DataFrame(task_daily_list)\n",
    "print(sum(task_daily_df[\"hour\"]))\n",
    "task_daily_df"
   ]
  },
  {
   "cell_type": "code",
   "execution_count": 9,
   "metadata": {},
   "outputs": [
    {
     "name": "stdout",
     "output_type": "stream",
     "text": [
      "318.99999999999994\n"
     ]
    },
    {
     "data": {
      "text/html": [
       "<div>\n",
       "<style scoped>\n",
       "    .dataframe tbody tr th:only-of-type {\n",
       "        vertical-align: middle;\n",
       "    }\n",
       "\n",
       "    .dataframe tbody tr th {\n",
       "        vertical-align: top;\n",
       "    }\n",
       "\n",
       "    .dataframe thead th {\n",
       "        text-align: right;\n",
       "    }\n",
       "</style>\n",
       "<table border=\"1\" class=\"dataframe\">\n",
       "  <thead>\n",
       "    <tr style=\"text-align: right;\">\n",
       "      <th>assignee</th>\n",
       "      <th>date</th>\n",
       "      <th>admin</th>\n",
       "      <th>wisit</th>\n",
       "    </tr>\n",
       "  </thead>\n",
       "  <tbody>\n",
       "    <tr>\n",
       "      <th>0</th>\n",
       "      <td>2024-01-24</td>\n",
       "      <td>0.333333</td>\n",
       "      <td>0.000000</td>\n",
       "    </tr>\n",
       "    <tr>\n",
       "      <th>1</th>\n",
       "      <td>2024-01-25</td>\n",
       "      <td>0.333333</td>\n",
       "      <td>0.000000</td>\n",
       "    </tr>\n",
       "    <tr>\n",
       "      <th>2</th>\n",
       "      <td>2024-01-26</td>\n",
       "      <td>0.333333</td>\n",
       "      <td>0.000000</td>\n",
       "    </tr>\n",
       "    <tr>\n",
       "      <th>3</th>\n",
       "      <td>2024-01-27</td>\n",
       "      <td>0.000000</td>\n",
       "      <td>0.000000</td>\n",
       "    </tr>\n",
       "    <tr>\n",
       "      <th>4</th>\n",
       "      <td>2024-01-28</td>\n",
       "      <td>0.000000</td>\n",
       "      <td>0.000000</td>\n",
       "    </tr>\n",
       "    <tr>\n",
       "      <th>5</th>\n",
       "      <td>2024-01-29</td>\n",
       "      <td>0.333333</td>\n",
       "      <td>0.000000</td>\n",
       "    </tr>\n",
       "    <tr>\n",
       "      <th>6</th>\n",
       "      <td>2024-01-30</td>\n",
       "      <td>0.333333</td>\n",
       "      <td>0.000000</td>\n",
       "    </tr>\n",
       "    <tr>\n",
       "      <th>7</th>\n",
       "      <td>2024-01-31</td>\n",
       "      <td>0.333333</td>\n",
       "      <td>0.000000</td>\n",
       "    </tr>\n",
       "    <tr>\n",
       "      <th>8</th>\n",
       "      <td>2024-02-01</td>\n",
       "      <td>0.000000</td>\n",
       "      <td>0.000000</td>\n",
       "    </tr>\n",
       "    <tr>\n",
       "      <th>9</th>\n",
       "      <td>2024-02-02</td>\n",
       "      <td>0.000000</td>\n",
       "      <td>0.000000</td>\n",
       "    </tr>\n",
       "    <tr>\n",
       "      <th>10</th>\n",
       "      <td>2024-02-03</td>\n",
       "      <td>0.000000</td>\n",
       "      <td>0.000000</td>\n",
       "    </tr>\n",
       "    <tr>\n",
       "      <th>11</th>\n",
       "      <td>2024-02-04</td>\n",
       "      <td>0.000000</td>\n",
       "      <td>0.000000</td>\n",
       "    </tr>\n",
       "    <tr>\n",
       "      <th>12</th>\n",
       "      <td>2024-02-05</td>\n",
       "      <td>0.000000</td>\n",
       "      <td>0.000000</td>\n",
       "    </tr>\n",
       "    <tr>\n",
       "      <th>13</th>\n",
       "      <td>2024-02-06</td>\n",
       "      <td>0.000000</td>\n",
       "      <td>0.000000</td>\n",
       "    </tr>\n",
       "    <tr>\n",
       "      <th>14</th>\n",
       "      <td>2024-02-07</td>\n",
       "      <td>0.000000</td>\n",
       "      <td>0.000000</td>\n",
       "    </tr>\n",
       "    <tr>\n",
       "      <th>15</th>\n",
       "      <td>2024-02-08</td>\n",
       "      <td>10.000000</td>\n",
       "      <td>0.000000</td>\n",
       "    </tr>\n",
       "    <tr>\n",
       "      <th>16</th>\n",
       "      <td>2024-02-09</td>\n",
       "      <td>10.000000</td>\n",
       "      <td>0.000000</td>\n",
       "    </tr>\n",
       "    <tr>\n",
       "      <th>17</th>\n",
       "      <td>2024-02-10</td>\n",
       "      <td>0.000000</td>\n",
       "      <td>0.000000</td>\n",
       "    </tr>\n",
       "    <tr>\n",
       "      <th>18</th>\n",
       "      <td>2024-02-11</td>\n",
       "      <td>0.000000</td>\n",
       "      <td>0.000000</td>\n",
       "    </tr>\n",
       "    <tr>\n",
       "      <th>19</th>\n",
       "      <td>2024-02-12</td>\n",
       "      <td>0.000000</td>\n",
       "      <td>0.000000</td>\n",
       "    </tr>\n",
       "    <tr>\n",
       "      <th>20</th>\n",
       "      <td>2024-02-13</td>\n",
       "      <td>10.000000</td>\n",
       "      <td>3.750000</td>\n",
       "    </tr>\n",
       "    <tr>\n",
       "      <th>21</th>\n",
       "      <td>2024-02-14</td>\n",
       "      <td>10.000000</td>\n",
       "      <td>3.750000</td>\n",
       "    </tr>\n",
       "    <tr>\n",
       "      <th>22</th>\n",
       "      <td>2024-02-15</td>\n",
       "      <td>23.555556</td>\n",
       "      <td>3.750000</td>\n",
       "    </tr>\n",
       "    <tr>\n",
       "      <th>23</th>\n",
       "      <td>2024-02-16</td>\n",
       "      <td>23.555556</td>\n",
       "      <td>3.750000</td>\n",
       "    </tr>\n",
       "    <tr>\n",
       "      <th>24</th>\n",
       "      <td>2024-02-17</td>\n",
       "      <td>0.000000</td>\n",
       "      <td>0.000000</td>\n",
       "    </tr>\n",
       "    <tr>\n",
       "      <th>25</th>\n",
       "      <td>2024-02-18</td>\n",
       "      <td>0.000000</td>\n",
       "      <td>0.000000</td>\n",
       "    </tr>\n",
       "    <tr>\n",
       "      <th>26</th>\n",
       "      <td>2024-02-19</td>\n",
       "      <td>23.555556</td>\n",
       "      <td>15.083333</td>\n",
       "    </tr>\n",
       "    <tr>\n",
       "      <th>27</th>\n",
       "      <td>2024-02-20</td>\n",
       "      <td>23.555556</td>\n",
       "      <td>15.083333</td>\n",
       "    </tr>\n",
       "    <tr>\n",
       "      <th>28</th>\n",
       "      <td>2024-02-21</td>\n",
       "      <td>23.555556</td>\n",
       "      <td>15.083333</td>\n",
       "    </tr>\n",
       "    <tr>\n",
       "      <th>29</th>\n",
       "      <td>2024-02-22</td>\n",
       "      <td>23.555556</td>\n",
       "      <td>15.083333</td>\n",
       "    </tr>\n",
       "    <tr>\n",
       "      <th>30</th>\n",
       "      <td>2024-02-23</td>\n",
       "      <td>11.555556</td>\n",
       "      <td>11.333333</td>\n",
       "    </tr>\n",
       "    <tr>\n",
       "      <th>31</th>\n",
       "      <td>2024-02-24</td>\n",
       "      <td>0.000000</td>\n",
       "      <td>0.000000</td>\n",
       "    </tr>\n",
       "    <tr>\n",
       "      <th>32</th>\n",
       "      <td>2024-02-25</td>\n",
       "      <td>0.000000</td>\n",
       "      <td>0.000000</td>\n",
       "    </tr>\n",
       "    <tr>\n",
       "      <th>33</th>\n",
       "      <td>2024-02-26</td>\n",
       "      <td>0.000000</td>\n",
       "      <td>0.000000</td>\n",
       "    </tr>\n",
       "    <tr>\n",
       "      <th>34</th>\n",
       "      <td>2024-02-27</td>\n",
       "      <td>11.555556</td>\n",
       "      <td>8.333333</td>\n",
       "    </tr>\n",
       "    <tr>\n",
       "      <th>35</th>\n",
       "      <td>2024-02-28</td>\n",
       "      <td>11.555556</td>\n",
       "      <td>0.000000</td>\n",
       "    </tr>\n",
       "    <tr>\n",
       "      <th>36</th>\n",
       "      <td>2024-02-29</td>\n",
       "      <td>6.000000</td>\n",
       "      <td>0.000000</td>\n",
       "    </tr>\n",
       "  </tbody>\n",
       "</table>\n",
       "</div>"
      ],
      "text/plain": [
       "assignee       date      admin      wisit\n",
       "0        2024-01-24   0.333333   0.000000\n",
       "1        2024-01-25   0.333333   0.000000\n",
       "2        2024-01-26   0.333333   0.000000\n",
       "3        2024-01-27   0.000000   0.000000\n",
       "4        2024-01-28   0.000000   0.000000\n",
       "5        2024-01-29   0.333333   0.000000\n",
       "6        2024-01-30   0.333333   0.000000\n",
       "7        2024-01-31   0.333333   0.000000\n",
       "8        2024-02-01   0.000000   0.000000\n",
       "9        2024-02-02   0.000000   0.000000\n",
       "10       2024-02-03   0.000000   0.000000\n",
       "11       2024-02-04   0.000000   0.000000\n",
       "12       2024-02-05   0.000000   0.000000\n",
       "13       2024-02-06   0.000000   0.000000\n",
       "14       2024-02-07   0.000000   0.000000\n",
       "15       2024-02-08  10.000000   0.000000\n",
       "16       2024-02-09  10.000000   0.000000\n",
       "17       2024-02-10   0.000000   0.000000\n",
       "18       2024-02-11   0.000000   0.000000\n",
       "19       2024-02-12   0.000000   0.000000\n",
       "20       2024-02-13  10.000000   3.750000\n",
       "21       2024-02-14  10.000000   3.750000\n",
       "22       2024-02-15  23.555556   3.750000\n",
       "23       2024-02-16  23.555556   3.750000\n",
       "24       2024-02-17   0.000000   0.000000\n",
       "25       2024-02-18   0.000000   0.000000\n",
       "26       2024-02-19  23.555556  15.083333\n",
       "27       2024-02-20  23.555556  15.083333\n",
       "28       2024-02-21  23.555556  15.083333\n",
       "29       2024-02-22  23.555556  15.083333\n",
       "30       2024-02-23  11.555556  11.333333\n",
       "31       2024-02-24   0.000000   0.000000\n",
       "32       2024-02-25   0.000000   0.000000\n",
       "33       2024-02-26   0.000000   0.000000\n",
       "34       2024-02-27  11.555556   8.333333\n",
       "35       2024-02-28  11.555556   0.000000\n",
       "36       2024-02-29   6.000000   0.000000"
      ]
     },
     "execution_count": 9,
     "metadata": {},
     "output_type": "execute_result"
    }
   ],
   "source": [
    "assignee_hour_per_day_df = (\n",
    "    task_daily_df.groupby([\"date\", \"assignee\"]).agg({\"hour\": \"sum\"}).reset_index()\n",
    ")\n",
    "print(sum(assignee_hour_per_day_df[\"hour\"]))\n",
    "# pivot table\n",
    "assignee_hour_per_day_df = assignee_hour_per_day_df.pivot(\n",
    "    index=\"date\", columns=\"assignee\", values=\"hour\"\n",
    ")\n",
    "# fill na with 0\n",
    "assignee_hour_per_day_df = assignee_hour_per_day_df.fillna(0)\n",
    "min_date = assignee_hour_per_day_df.index.min()\n",
    "max_date = assignee_hour_per_day_df.index.max()\n",
    "# fill missing date\n",
    "date_range = pd.date_range(start=min_date, end=max_date)\n",
    "assignee_hour_per_day_df = assignee_hour_per_day_df.reindex(date_range, fill_value=0)\n",
    "# change column name first column to 'date'\n",
    "assignee_hour_per_day_df = assignee_hour_per_day_df.reset_index()\n",
    "assignee_hour_per_day_df = assignee_hour_per_day_df.rename(columns={\"index\": \"date\"})\n",
    "# remove first column\n",
    "assignee_hour_per_day_df"
   ]
  },
  {
   "cell_type": "code",
   "execution_count": 10,
   "metadata": {},
   "outputs": [
    {
     "data": {
      "text/html": [
       "<div>\n",
       "<style scoped>\n",
       "    .dataframe tbody tr th:only-of-type {\n",
       "        vertical-align: middle;\n",
       "    }\n",
       "\n",
       "    .dataframe tbody tr th {\n",
       "        vertical-align: top;\n",
       "    }\n",
       "\n",
       "    .dataframe thead th {\n",
       "        text-align: right;\n",
       "    }\n",
       "</style>\n",
       "<table border=\"1\" class=\"dataframe\">\n",
       "  <thead>\n",
       "    <tr style=\"text-align: right;\">\n",
       "      <th>epic_name</th>\n",
       "      <th>date</th>\n",
       "      <th>location</th>\n",
       "      <th>test_epic</th>\n",
       "    </tr>\n",
       "  </thead>\n",
       "  <tbody>\n",
       "    <tr>\n",
       "      <th>0</th>\n",
       "      <td>2024-01-24</td>\n",
       "      <td>0.333333</td>\n",
       "      <td>0.000000</td>\n",
       "    </tr>\n",
       "    <tr>\n",
       "      <th>1</th>\n",
       "      <td>2024-01-25</td>\n",
       "      <td>0.333333</td>\n",
       "      <td>0.000000</td>\n",
       "    </tr>\n",
       "    <tr>\n",
       "      <th>2</th>\n",
       "      <td>2024-01-26</td>\n",
       "      <td>0.333333</td>\n",
       "      <td>0.000000</td>\n",
       "    </tr>\n",
       "    <tr>\n",
       "      <th>3</th>\n",
       "      <td>2024-01-27</td>\n",
       "      <td>0.000000</td>\n",
       "      <td>0.000000</td>\n",
       "    </tr>\n",
       "    <tr>\n",
       "      <th>4</th>\n",
       "      <td>2024-01-28</td>\n",
       "      <td>0.000000</td>\n",
       "      <td>0.000000</td>\n",
       "    </tr>\n",
       "    <tr>\n",
       "      <th>5</th>\n",
       "      <td>2024-01-29</td>\n",
       "      <td>0.333333</td>\n",
       "      <td>0.000000</td>\n",
       "    </tr>\n",
       "    <tr>\n",
       "      <th>6</th>\n",
       "      <td>2024-01-30</td>\n",
       "      <td>0.333333</td>\n",
       "      <td>0.000000</td>\n",
       "    </tr>\n",
       "    <tr>\n",
       "      <th>7</th>\n",
       "      <td>2024-01-31</td>\n",
       "      <td>0.333333</td>\n",
       "      <td>0.000000</td>\n",
       "    </tr>\n",
       "    <tr>\n",
       "      <th>8</th>\n",
       "      <td>2024-02-01</td>\n",
       "      <td>0.000000</td>\n",
       "      <td>0.000000</td>\n",
       "    </tr>\n",
       "    <tr>\n",
       "      <th>9</th>\n",
       "      <td>2024-02-02</td>\n",
       "      <td>0.000000</td>\n",
       "      <td>0.000000</td>\n",
       "    </tr>\n",
       "    <tr>\n",
       "      <th>10</th>\n",
       "      <td>2024-02-03</td>\n",
       "      <td>0.000000</td>\n",
       "      <td>0.000000</td>\n",
       "    </tr>\n",
       "    <tr>\n",
       "      <th>11</th>\n",
       "      <td>2024-02-04</td>\n",
       "      <td>0.000000</td>\n",
       "      <td>0.000000</td>\n",
       "    </tr>\n",
       "    <tr>\n",
       "      <th>12</th>\n",
       "      <td>2024-02-05</td>\n",
       "      <td>0.000000</td>\n",
       "      <td>0.000000</td>\n",
       "    </tr>\n",
       "    <tr>\n",
       "      <th>13</th>\n",
       "      <td>2024-02-06</td>\n",
       "      <td>0.000000</td>\n",
       "      <td>0.000000</td>\n",
       "    </tr>\n",
       "    <tr>\n",
       "      <th>14</th>\n",
       "      <td>2024-02-07</td>\n",
       "      <td>0.000000</td>\n",
       "      <td>0.000000</td>\n",
       "    </tr>\n",
       "    <tr>\n",
       "      <th>15</th>\n",
       "      <td>2024-02-08</td>\n",
       "      <td>0.000000</td>\n",
       "      <td>10.000000</td>\n",
       "    </tr>\n",
       "    <tr>\n",
       "      <th>16</th>\n",
       "      <td>2024-02-09</td>\n",
       "      <td>0.000000</td>\n",
       "      <td>10.000000</td>\n",
       "    </tr>\n",
       "    <tr>\n",
       "      <th>17</th>\n",
       "      <td>2024-02-10</td>\n",
       "      <td>0.000000</td>\n",
       "      <td>0.000000</td>\n",
       "    </tr>\n",
       "    <tr>\n",
       "      <th>18</th>\n",
       "      <td>2024-02-11</td>\n",
       "      <td>0.000000</td>\n",
       "      <td>0.000000</td>\n",
       "    </tr>\n",
       "    <tr>\n",
       "      <th>19</th>\n",
       "      <td>2024-02-12</td>\n",
       "      <td>0.000000</td>\n",
       "      <td>0.000000</td>\n",
       "    </tr>\n",
       "    <tr>\n",
       "      <th>20</th>\n",
       "      <td>2024-02-13</td>\n",
       "      <td>0.000000</td>\n",
       "      <td>13.750000</td>\n",
       "    </tr>\n",
       "    <tr>\n",
       "      <th>21</th>\n",
       "      <td>2024-02-14</td>\n",
       "      <td>0.000000</td>\n",
       "      <td>13.750000</td>\n",
       "    </tr>\n",
       "    <tr>\n",
       "      <th>22</th>\n",
       "      <td>2024-02-15</td>\n",
       "      <td>8.000000</td>\n",
       "      <td>19.305556</td>\n",
       "    </tr>\n",
       "    <tr>\n",
       "      <th>23</th>\n",
       "      <td>2024-02-16</td>\n",
       "      <td>8.000000</td>\n",
       "      <td>19.305556</td>\n",
       "    </tr>\n",
       "    <tr>\n",
       "      <th>24</th>\n",
       "      <td>2024-02-17</td>\n",
       "      <td>0.000000</td>\n",
       "      <td>0.000000</td>\n",
       "    </tr>\n",
       "    <tr>\n",
       "      <th>25</th>\n",
       "      <td>2024-02-18</td>\n",
       "      <td>0.000000</td>\n",
       "      <td>0.000000</td>\n",
       "    </tr>\n",
       "    <tr>\n",
       "      <th>26</th>\n",
       "      <td>2024-02-19</td>\n",
       "      <td>11.000000</td>\n",
       "      <td>27.638889</td>\n",
       "    </tr>\n",
       "    <tr>\n",
       "      <th>27</th>\n",
       "      <td>2024-02-20</td>\n",
       "      <td>11.000000</td>\n",
       "      <td>27.638889</td>\n",
       "    </tr>\n",
       "    <tr>\n",
       "      <th>28</th>\n",
       "      <td>2024-02-21</td>\n",
       "      <td>11.000000</td>\n",
       "      <td>27.638889</td>\n",
       "    </tr>\n",
       "    <tr>\n",
       "      <th>29</th>\n",
       "      <td>2024-02-22</td>\n",
       "      <td>11.000000</td>\n",
       "      <td>27.638889</td>\n",
       "    </tr>\n",
       "    <tr>\n",
       "      <th>30</th>\n",
       "      <td>2024-02-23</td>\n",
       "      <td>9.000000</td>\n",
       "      <td>13.888889</td>\n",
       "    </tr>\n",
       "    <tr>\n",
       "      <th>31</th>\n",
       "      <td>2024-02-24</td>\n",
       "      <td>0.000000</td>\n",
       "      <td>0.000000</td>\n",
       "    </tr>\n",
       "    <tr>\n",
       "      <th>32</th>\n",
       "      <td>2024-02-25</td>\n",
       "      <td>0.000000</td>\n",
       "      <td>0.000000</td>\n",
       "    </tr>\n",
       "    <tr>\n",
       "      <th>33</th>\n",
       "      <td>2024-02-26</td>\n",
       "      <td>0.000000</td>\n",
       "      <td>0.000000</td>\n",
       "    </tr>\n",
       "    <tr>\n",
       "      <th>34</th>\n",
       "      <td>2024-02-27</td>\n",
       "      <td>6.000000</td>\n",
       "      <td>13.888889</td>\n",
       "    </tr>\n",
       "    <tr>\n",
       "      <th>35</th>\n",
       "      <td>2024-02-28</td>\n",
       "      <td>6.000000</td>\n",
       "      <td>5.555556</td>\n",
       "    </tr>\n",
       "    <tr>\n",
       "      <th>36</th>\n",
       "      <td>2024-02-29</td>\n",
       "      <td>6.000000</td>\n",
       "      <td>0.000000</td>\n",
       "    </tr>\n",
       "  </tbody>\n",
       "</table>\n",
       "</div>"
      ],
      "text/plain": [
       "epic_name       date   location  test_epic\n",
       "0         2024-01-24   0.333333   0.000000\n",
       "1         2024-01-25   0.333333   0.000000\n",
       "2         2024-01-26   0.333333   0.000000\n",
       "3         2024-01-27   0.000000   0.000000\n",
       "4         2024-01-28   0.000000   0.000000\n",
       "5         2024-01-29   0.333333   0.000000\n",
       "6         2024-01-30   0.333333   0.000000\n",
       "7         2024-01-31   0.333333   0.000000\n",
       "8         2024-02-01   0.000000   0.000000\n",
       "9         2024-02-02   0.000000   0.000000\n",
       "10        2024-02-03   0.000000   0.000000\n",
       "11        2024-02-04   0.000000   0.000000\n",
       "12        2024-02-05   0.000000   0.000000\n",
       "13        2024-02-06   0.000000   0.000000\n",
       "14        2024-02-07   0.000000   0.000000\n",
       "15        2024-02-08   0.000000  10.000000\n",
       "16        2024-02-09   0.000000  10.000000\n",
       "17        2024-02-10   0.000000   0.000000\n",
       "18        2024-02-11   0.000000   0.000000\n",
       "19        2024-02-12   0.000000   0.000000\n",
       "20        2024-02-13   0.000000  13.750000\n",
       "21        2024-02-14   0.000000  13.750000\n",
       "22        2024-02-15   8.000000  19.305556\n",
       "23        2024-02-16   8.000000  19.305556\n",
       "24        2024-02-17   0.000000   0.000000\n",
       "25        2024-02-18   0.000000   0.000000\n",
       "26        2024-02-19  11.000000  27.638889\n",
       "27        2024-02-20  11.000000  27.638889\n",
       "28        2024-02-21  11.000000  27.638889\n",
       "29        2024-02-22  11.000000  27.638889\n",
       "30        2024-02-23   9.000000  13.888889\n",
       "31        2024-02-24   0.000000   0.000000\n",
       "32        2024-02-25   0.000000   0.000000\n",
       "33        2024-02-26   0.000000   0.000000\n",
       "34        2024-02-27   6.000000  13.888889\n",
       "35        2024-02-28   6.000000   5.555556\n",
       "36        2024-02-29   6.000000   0.000000"
      ]
     },
     "execution_count": 10,
     "metadata": {},
     "output_type": "execute_result"
    }
   ],
   "source": [
    "project_hour_per_day_df = (\n",
    "    task_daily_df.groupby([\"date\", \"epic_name\"]).agg({\"hour\": \"sum\"}).reset_index()\n",
    ")\n",
    "project_hour_per_day_df = project_hour_per_day_df.pivot(\n",
    "    index=\"date\", columns=\"epic_name\", values=\"hour\"\n",
    ")\n",
    "project_hour_per_day_df = project_hour_per_day_df.fillna(0)\n",
    "min_date = project_hour_per_day_df.index.min()\n",
    "max_date = project_hour_per_day_df.index.max()\n",
    "date_range = pd.date_range(start=min_date, end=max_date)\n",
    "project_hour_per_day_df = project_hour_per_day_df.reindex(date_range, fill_value=0)\n",
    "project_hour_per_day_df = project_hour_per_day_df.reset_index()\n",
    "project_hour_per_day_df = project_hour_per_day_df.rename(columns={\"index\": \"date\"})\n",
    "project_hour_per_day_df"
   ]
  },
  {
   "cell_type": "code",
   "execution_count": 11,
   "metadata": {},
   "outputs": [],
   "source": [
    "# save to excel\n",
    "\n",
    "with pd.ExcelWriter(\"task_daily_df.xlsx\") as writer:\n",
    "    merge_data_df.to_excel(writer, sheet_name=\"merge_data_df\")\n",
    "    task_daily_df.to_excel(writer, sheet_name=\"task_daily_df\")\n",
    "    assignee_hour_per_day_df.to_excel(writer, sheet_name=\"assignee_hour_per_day_df\")\n",
    "    project_hour_per_day_df.to_excel(writer, sheet_name=\"project_hour_per_day_df\")"
   ]
  },
  {
   "cell_type": "code",
   "execution_count": 12,
   "metadata": {},
   "outputs": [],
   "source": [
    "# create plotly chart for weekly report\n",
    "import plotly.express as px\n",
    "import plotly.graph_objects as go"
   ]
  },
  {
   "cell_type": "code",
   "execution_count": 13,
   "metadata": {},
   "outputs": [
    {
     "name": "stdout",
     "output_type": "stream",
     "text": [
      "assignee       date      admin      wisit\n",
      "0        2024-01-24   0.333333   0.000000\n",
      "1        2024-01-25   0.333333   0.000000\n",
      "2        2024-01-26   0.333333   0.000000\n",
      "3        2024-01-27   0.000000   0.000000\n",
      "4        2024-01-28   0.000000   0.000000\n",
      "5        2024-01-29   0.333333   0.000000\n",
      "6        2024-01-30   0.333333   0.000000\n",
      "7        2024-01-31   0.333333   0.000000\n",
      "8        2024-02-01   0.000000   0.000000\n",
      "9        2024-02-02   0.000000   0.000000\n",
      "10       2024-02-03   0.000000   0.000000\n",
      "11       2024-02-04   0.000000   0.000000\n",
      "12       2024-02-05   0.000000   0.000000\n",
      "13       2024-02-06   0.000000   0.000000\n",
      "14       2024-02-07   0.000000   0.000000\n",
      "15       2024-02-08  10.000000   0.000000\n",
      "16       2024-02-09  10.000000   0.000000\n",
      "17       2024-02-10   0.000000   0.000000\n",
      "18       2024-02-11   0.000000   0.000000\n",
      "19       2024-02-12   0.000000   0.000000\n",
      "20       2024-02-13  10.000000   3.750000\n",
      "21       2024-02-14  10.000000   3.750000\n",
      "22       2024-02-15  23.555556   3.750000\n",
      "23       2024-02-16  23.555556   3.750000\n",
      "24       2024-02-17   0.000000   0.000000\n",
      "25       2024-02-18   0.000000   0.000000\n",
      "26       2024-02-19  23.555556  15.083333\n",
      "27       2024-02-20  23.555556  15.083333\n",
      "28       2024-02-21  23.555556  15.083333\n",
      "29       2024-02-22  23.555556  15.083333\n",
      "30       2024-02-23  11.555556  11.333333\n",
      "31       2024-02-24   0.000000   0.000000\n",
      "32       2024-02-25   0.000000   0.000000\n",
      "33       2024-02-26   0.000000   0.000000\n",
      "34       2024-02-27  11.555556   8.333333\n",
      "35       2024-02-28  11.555556   0.000000\n",
      "36       2024-02-29   6.000000   0.000000\n"
     ]
    }
   ],
   "source": [
    "print(assignee_hour_per_day_df)"
   ]
  },
  {
   "cell_type": "code",
   "execution_count": 14,
   "metadata": {},
   "outputs": [
    {
     "name": "stdout",
     "output_type": "stream",
     "text": [
      "column_list ['admin', 'wisit']\n"
     ]
    },
    {
     "data": {
      "application/vnd.plotly.v1+json": {
       "config": {
        "plotlyServerURL": "https://plot.ly"
       },
       "data": [
        {
         "legendgroup": "admin",
         "line": {
          "color": "#636EFA"
         },
         "mode": "lines+markers",
         "name": "admin",
         "showlegend": true,
         "type": "scatter",
         "x": [
          "2024-02-16T00:00:00",
          "2024-02-17T00:00:00",
          "2024-02-18T00:00:00",
          "2024-02-19T00:00:00",
          "2024-02-20T00:00:00",
          "2024-02-21T00:00:00",
          "2024-02-22T00:00:00",
          "2024-02-23T00:00:00",
          "2024-02-24T00:00:00",
          "2024-02-25T00:00:00",
          "2024-02-26T00:00:00",
          "2024-02-27T00:00:00",
          "2024-02-28T00:00:00",
          "2024-02-29T00:00:00"
         ],
         "xaxis": "x",
         "y": [
          23.555555555555557,
          0,
          0,
          23.555555555555557,
          23.555555555555557,
          23.555555555555557,
          23.555555555555557,
          11.555555555555555,
          0,
          0,
          0,
          11.555555555555555,
          11.555555555555555,
          6
         ],
         "yaxis": "y"
        },
        {
         "legendgroup": "wisit",
         "line": {
          "color": "#EF553B"
         },
         "mode": "lines+markers",
         "name": "wisit",
         "showlegend": true,
         "type": "scatter",
         "x": [
          "2024-02-16T00:00:00",
          "2024-02-17T00:00:00",
          "2024-02-18T00:00:00",
          "2024-02-19T00:00:00",
          "2024-02-20T00:00:00",
          "2024-02-21T00:00:00",
          "2024-02-22T00:00:00",
          "2024-02-23T00:00:00",
          "2024-02-24T00:00:00",
          "2024-02-25T00:00:00",
          "2024-02-26T00:00:00",
          "2024-02-27T00:00:00",
          "2024-02-28T00:00:00",
          "2024-02-29T00:00:00"
         ],
         "xaxis": "x",
         "y": [
          3.75,
          0,
          0,
          15.083333333333334,
          15.083333333333334,
          15.083333333333334,
          15.083333333333334,
          11.333333333333334,
          0,
          0,
          0,
          8.333333333333334,
          0,
          0
         ],
         "yaxis": "y"
        },
        {
         "line": {
          "color": "green",
          "dash": "dash"
         },
         "mode": "lines",
         "name": "8 hour",
         "showlegend": false,
         "type": "scatter",
         "x": [
          "2024-02-16T00:00:00",
          "2024-02-17T00:00:00",
          "2024-02-18T00:00:00",
          "2024-02-19T00:00:00",
          "2024-02-20T00:00:00",
          "2024-02-21T00:00:00",
          "2024-02-22T00:00:00",
          "2024-02-23T00:00:00",
          "2024-02-24T00:00:00",
          "2024-02-25T00:00:00",
          "2024-02-26T00:00:00",
          "2024-02-27T00:00:00",
          "2024-02-28T00:00:00",
          "2024-02-29T00:00:00"
         ],
         "xaxis": "x",
         "y": [
          8,
          0,
          0,
          8,
          8,
          8,
          8,
          8,
          0,
          0,
          0,
          8,
          8,
          8
         ],
         "yaxis": "y"
        },
        {
         "legendgroup": "admin",
         "line": {
          "color": "#636EFA"
         },
         "mode": "lines+markers",
         "name": "admin",
         "showlegend": false,
         "type": "scatter",
         "x": [
          "2024-01-31T00:00:00",
          "2024-02-01T00:00:00",
          "2024-02-02T00:00:00",
          "2024-02-03T00:00:00",
          "2024-02-04T00:00:00",
          "2024-02-05T00:00:00",
          "2024-02-06T00:00:00",
          "2024-02-07T00:00:00",
          "2024-02-08T00:00:00",
          "2024-02-09T00:00:00",
          "2024-02-10T00:00:00",
          "2024-02-11T00:00:00",
          "2024-02-12T00:00:00",
          "2024-02-13T00:00:00",
          "2024-02-14T00:00:00",
          "2024-02-15T00:00:00",
          "2024-02-16T00:00:00",
          "2024-02-17T00:00:00",
          "2024-02-18T00:00:00",
          "2024-02-19T00:00:00",
          "2024-02-20T00:00:00",
          "2024-02-21T00:00:00",
          "2024-02-22T00:00:00",
          "2024-02-23T00:00:00",
          "2024-02-24T00:00:00",
          "2024-02-25T00:00:00",
          "2024-02-26T00:00:00",
          "2024-02-27T00:00:00",
          "2024-02-28T00:00:00",
          "2024-02-29T00:00:00"
         ],
         "xaxis": "x2",
         "y": [
          0.3333333333333333,
          0,
          0,
          0,
          0,
          0,
          0,
          0,
          10,
          10,
          0,
          0,
          0,
          10,
          10,
          23.555555555555557,
          23.555555555555557,
          0,
          0,
          23.555555555555557,
          23.555555555555557,
          23.555555555555557,
          23.555555555555557,
          11.555555555555555,
          0,
          0,
          0,
          11.555555555555555,
          11.555555555555555,
          6
         ],
         "yaxis": "y2"
        },
        {
         "legendgroup": "wisit",
         "line": {
          "color": "#EF553B"
         },
         "mode": "lines+markers",
         "name": "wisit",
         "showlegend": false,
         "type": "scatter",
         "x": [
          "2024-01-31T00:00:00",
          "2024-02-01T00:00:00",
          "2024-02-02T00:00:00",
          "2024-02-03T00:00:00",
          "2024-02-04T00:00:00",
          "2024-02-05T00:00:00",
          "2024-02-06T00:00:00",
          "2024-02-07T00:00:00",
          "2024-02-08T00:00:00",
          "2024-02-09T00:00:00",
          "2024-02-10T00:00:00",
          "2024-02-11T00:00:00",
          "2024-02-12T00:00:00",
          "2024-02-13T00:00:00",
          "2024-02-14T00:00:00",
          "2024-02-15T00:00:00",
          "2024-02-16T00:00:00",
          "2024-02-17T00:00:00",
          "2024-02-18T00:00:00",
          "2024-02-19T00:00:00",
          "2024-02-20T00:00:00",
          "2024-02-21T00:00:00",
          "2024-02-22T00:00:00",
          "2024-02-23T00:00:00",
          "2024-02-24T00:00:00",
          "2024-02-25T00:00:00",
          "2024-02-26T00:00:00",
          "2024-02-27T00:00:00",
          "2024-02-28T00:00:00",
          "2024-02-29T00:00:00"
         ],
         "xaxis": "x2",
         "y": [
          0,
          0,
          0,
          0,
          0,
          0,
          0,
          0,
          0,
          0,
          0,
          0,
          0,
          3.75,
          3.75,
          3.75,
          3.75,
          0,
          0,
          15.083333333333334,
          15.083333333333334,
          15.083333333333334,
          15.083333333333334,
          11.333333333333334,
          0,
          0,
          0,
          8.333333333333334,
          0,
          0
         ],
         "yaxis": "y2"
        },
        {
         "line": {
          "color": "green",
          "dash": "dash"
         },
         "mode": "lines",
         "name": "8 hour",
         "showlegend": false,
         "type": "scatter",
         "x": [
          "2024-01-31T00:00:00",
          "2024-02-01T00:00:00",
          "2024-02-02T00:00:00",
          "2024-02-03T00:00:00",
          "2024-02-04T00:00:00",
          "2024-02-05T00:00:00",
          "2024-02-06T00:00:00",
          "2024-02-07T00:00:00",
          "2024-02-08T00:00:00",
          "2024-02-09T00:00:00",
          "2024-02-10T00:00:00",
          "2024-02-11T00:00:00",
          "2024-02-12T00:00:00",
          "2024-02-13T00:00:00",
          "2024-02-14T00:00:00",
          "2024-02-15T00:00:00",
          "2024-02-16T00:00:00",
          "2024-02-17T00:00:00",
          "2024-02-18T00:00:00",
          "2024-02-19T00:00:00",
          "2024-02-20T00:00:00",
          "2024-02-21T00:00:00",
          "2024-02-22T00:00:00",
          "2024-02-23T00:00:00",
          "2024-02-24T00:00:00",
          "2024-02-25T00:00:00",
          "2024-02-26T00:00:00",
          "2024-02-27T00:00:00",
          "2024-02-28T00:00:00",
          "2024-02-29T00:00:00"
         ],
         "xaxis": "x2",
         "y": [
          8,
          8,
          8,
          0,
          0,
          8,
          8,
          8,
          8,
          8,
          0,
          0,
          0,
          8,
          8,
          8,
          8,
          0,
          0,
          8,
          8,
          8,
          8,
          8,
          0,
          0,
          0,
          8,
          8,
          8
         ],
         "yaxis": "y2"
        },
        {
         "legendgroup": "admin",
         "line": {
          "color": "#636EFA"
         },
         "mode": "lines+markers",
         "name": "admin",
         "showlegend": false,
         "type": "scatter",
         "x": [
          "2024-01-24T00:00:00",
          "2024-01-25T00:00:00",
          "2024-01-26T00:00:00",
          "2024-01-27T00:00:00",
          "2024-01-28T00:00:00",
          "2024-01-29T00:00:00",
          "2024-01-30T00:00:00",
          "2024-01-31T00:00:00",
          "2024-02-01T00:00:00",
          "2024-02-02T00:00:00",
          "2024-02-03T00:00:00",
          "2024-02-04T00:00:00",
          "2024-02-05T00:00:00",
          "2024-02-06T00:00:00",
          "2024-02-07T00:00:00",
          "2024-02-08T00:00:00",
          "2024-02-09T00:00:00",
          "2024-02-10T00:00:00",
          "2024-02-11T00:00:00",
          "2024-02-12T00:00:00",
          "2024-02-13T00:00:00",
          "2024-02-14T00:00:00",
          "2024-02-15T00:00:00",
          "2024-02-16T00:00:00",
          "2024-02-17T00:00:00",
          "2024-02-18T00:00:00",
          "2024-02-19T00:00:00",
          "2024-02-20T00:00:00",
          "2024-02-21T00:00:00",
          "2024-02-22T00:00:00",
          "2024-02-23T00:00:00",
          "2024-02-24T00:00:00",
          "2024-02-25T00:00:00",
          "2024-02-26T00:00:00",
          "2024-02-27T00:00:00",
          "2024-02-28T00:00:00",
          "2024-02-29T00:00:00"
         ],
         "xaxis": "x3",
         "y": [
          0.3333333333333333,
          0.3333333333333333,
          0.3333333333333333,
          0,
          0,
          0.3333333333333333,
          0.3333333333333333,
          0.3333333333333333,
          0,
          0,
          0,
          0,
          0,
          0,
          0,
          10,
          10,
          0,
          0,
          0,
          10,
          10,
          23.555555555555557,
          23.555555555555557,
          0,
          0,
          23.555555555555557,
          23.555555555555557,
          23.555555555555557,
          23.555555555555557,
          11.555555555555555,
          0,
          0,
          0,
          11.555555555555555,
          11.555555555555555,
          6
         ],
         "yaxis": "y3"
        },
        {
         "legendgroup": "wisit",
         "line": {
          "color": "#EF553B"
         },
         "mode": "lines+markers",
         "name": "wisit",
         "showlegend": false,
         "type": "scatter",
         "x": [
          "2024-01-24T00:00:00",
          "2024-01-25T00:00:00",
          "2024-01-26T00:00:00",
          "2024-01-27T00:00:00",
          "2024-01-28T00:00:00",
          "2024-01-29T00:00:00",
          "2024-01-30T00:00:00",
          "2024-01-31T00:00:00",
          "2024-02-01T00:00:00",
          "2024-02-02T00:00:00",
          "2024-02-03T00:00:00",
          "2024-02-04T00:00:00",
          "2024-02-05T00:00:00",
          "2024-02-06T00:00:00",
          "2024-02-07T00:00:00",
          "2024-02-08T00:00:00",
          "2024-02-09T00:00:00",
          "2024-02-10T00:00:00",
          "2024-02-11T00:00:00",
          "2024-02-12T00:00:00",
          "2024-02-13T00:00:00",
          "2024-02-14T00:00:00",
          "2024-02-15T00:00:00",
          "2024-02-16T00:00:00",
          "2024-02-17T00:00:00",
          "2024-02-18T00:00:00",
          "2024-02-19T00:00:00",
          "2024-02-20T00:00:00",
          "2024-02-21T00:00:00",
          "2024-02-22T00:00:00",
          "2024-02-23T00:00:00",
          "2024-02-24T00:00:00",
          "2024-02-25T00:00:00",
          "2024-02-26T00:00:00",
          "2024-02-27T00:00:00",
          "2024-02-28T00:00:00",
          "2024-02-29T00:00:00"
         ],
         "xaxis": "x3",
         "y": [
          0,
          0,
          0,
          0,
          0,
          0,
          0,
          0,
          0,
          0,
          0,
          0,
          0,
          0,
          0,
          0,
          0,
          0,
          0,
          0,
          3.75,
          3.75,
          3.75,
          3.75,
          0,
          0,
          15.083333333333334,
          15.083333333333334,
          15.083333333333334,
          15.083333333333334,
          11.333333333333334,
          0,
          0,
          0,
          8.333333333333334,
          0,
          0
         ],
         "yaxis": "y3"
        },
        {
         "line": {
          "color": "green",
          "dash": "dash"
         },
         "mode": "lines",
         "name": "8 hour",
         "showlegend": false,
         "type": "scatter",
         "x": [
          "2024-01-24T00:00:00",
          "2024-01-25T00:00:00",
          "2024-01-26T00:00:00",
          "2024-01-27T00:00:00",
          "2024-01-28T00:00:00",
          "2024-01-29T00:00:00",
          "2024-01-30T00:00:00",
          "2024-01-31T00:00:00",
          "2024-02-01T00:00:00",
          "2024-02-02T00:00:00",
          "2024-02-03T00:00:00",
          "2024-02-04T00:00:00",
          "2024-02-05T00:00:00",
          "2024-02-06T00:00:00",
          "2024-02-07T00:00:00",
          "2024-02-08T00:00:00",
          "2024-02-09T00:00:00",
          "2024-02-10T00:00:00",
          "2024-02-11T00:00:00",
          "2024-02-12T00:00:00",
          "2024-02-13T00:00:00",
          "2024-02-14T00:00:00",
          "2024-02-15T00:00:00",
          "2024-02-16T00:00:00",
          "2024-02-17T00:00:00",
          "2024-02-18T00:00:00",
          "2024-02-19T00:00:00",
          "2024-02-20T00:00:00",
          "2024-02-21T00:00:00",
          "2024-02-22T00:00:00",
          "2024-02-23T00:00:00",
          "2024-02-24T00:00:00",
          "2024-02-25T00:00:00",
          "2024-02-26T00:00:00",
          "2024-02-27T00:00:00",
          "2024-02-28T00:00:00",
          "2024-02-29T00:00:00"
         ],
         "xaxis": "x3",
         "y": [
          8,
          8,
          8,
          0,
          0,
          8,
          8,
          8,
          8,
          8,
          0,
          0,
          8,
          8,
          8,
          8,
          8,
          0,
          0,
          0,
          8,
          8,
          8,
          8,
          0,
          0,
          8,
          8,
          8,
          8,
          8,
          0,
          0,
          0,
          8,
          8,
          8
         ],
         "yaxis": "y3"
        }
       ],
       "layout": {
        "template": {
         "data": {
          "bar": [
           {
            "error_x": {
             "color": "#2a3f5f"
            },
            "error_y": {
             "color": "#2a3f5f"
            },
            "marker": {
             "line": {
              "color": "#E5ECF6",
              "width": 0.5
             },
             "pattern": {
              "fillmode": "overlay",
              "size": 10,
              "solidity": 0.2
             }
            },
            "type": "bar"
           }
          ],
          "barpolar": [
           {
            "marker": {
             "line": {
              "color": "#E5ECF6",
              "width": 0.5
             },
             "pattern": {
              "fillmode": "overlay",
              "size": 10,
              "solidity": 0.2
             }
            },
            "type": "barpolar"
           }
          ],
          "carpet": [
           {
            "aaxis": {
             "endlinecolor": "#2a3f5f",
             "gridcolor": "white",
             "linecolor": "white",
             "minorgridcolor": "white",
             "startlinecolor": "#2a3f5f"
            },
            "baxis": {
             "endlinecolor": "#2a3f5f",
             "gridcolor": "white",
             "linecolor": "white",
             "minorgridcolor": "white",
             "startlinecolor": "#2a3f5f"
            },
            "type": "carpet"
           }
          ],
          "choropleth": [
           {
            "colorbar": {
             "outlinewidth": 0,
             "ticks": ""
            },
            "type": "choropleth"
           }
          ],
          "contour": [
           {
            "colorbar": {
             "outlinewidth": 0,
             "ticks": ""
            },
            "colorscale": [
             [
              0,
              "#0d0887"
             ],
             [
              0.1111111111111111,
              "#46039f"
             ],
             [
              0.2222222222222222,
              "#7201a8"
             ],
             [
              0.3333333333333333,
              "#9c179e"
             ],
             [
              0.4444444444444444,
              "#bd3786"
             ],
             [
              0.5555555555555556,
              "#d8576b"
             ],
             [
              0.6666666666666666,
              "#ed7953"
             ],
             [
              0.7777777777777778,
              "#fb9f3a"
             ],
             [
              0.8888888888888888,
              "#fdca26"
             ],
             [
              1,
              "#f0f921"
             ]
            ],
            "type": "contour"
           }
          ],
          "contourcarpet": [
           {
            "colorbar": {
             "outlinewidth": 0,
             "ticks": ""
            },
            "type": "contourcarpet"
           }
          ],
          "heatmap": [
           {
            "colorbar": {
             "outlinewidth": 0,
             "ticks": ""
            },
            "colorscale": [
             [
              0,
              "#0d0887"
             ],
             [
              0.1111111111111111,
              "#46039f"
             ],
             [
              0.2222222222222222,
              "#7201a8"
             ],
             [
              0.3333333333333333,
              "#9c179e"
             ],
             [
              0.4444444444444444,
              "#bd3786"
             ],
             [
              0.5555555555555556,
              "#d8576b"
             ],
             [
              0.6666666666666666,
              "#ed7953"
             ],
             [
              0.7777777777777778,
              "#fb9f3a"
             ],
             [
              0.8888888888888888,
              "#fdca26"
             ],
             [
              1,
              "#f0f921"
             ]
            ],
            "type": "heatmap"
           }
          ],
          "heatmapgl": [
           {
            "colorbar": {
             "outlinewidth": 0,
             "ticks": ""
            },
            "colorscale": [
             [
              0,
              "#0d0887"
             ],
             [
              0.1111111111111111,
              "#46039f"
             ],
             [
              0.2222222222222222,
              "#7201a8"
             ],
             [
              0.3333333333333333,
              "#9c179e"
             ],
             [
              0.4444444444444444,
              "#bd3786"
             ],
             [
              0.5555555555555556,
              "#d8576b"
             ],
             [
              0.6666666666666666,
              "#ed7953"
             ],
             [
              0.7777777777777778,
              "#fb9f3a"
             ],
             [
              0.8888888888888888,
              "#fdca26"
             ],
             [
              1,
              "#f0f921"
             ]
            ],
            "type": "heatmapgl"
           }
          ],
          "histogram": [
           {
            "marker": {
             "pattern": {
              "fillmode": "overlay",
              "size": 10,
              "solidity": 0.2
             }
            },
            "type": "histogram"
           }
          ],
          "histogram2d": [
           {
            "colorbar": {
             "outlinewidth": 0,
             "ticks": ""
            },
            "colorscale": [
             [
              0,
              "#0d0887"
             ],
             [
              0.1111111111111111,
              "#46039f"
             ],
             [
              0.2222222222222222,
              "#7201a8"
             ],
             [
              0.3333333333333333,
              "#9c179e"
             ],
             [
              0.4444444444444444,
              "#bd3786"
             ],
             [
              0.5555555555555556,
              "#d8576b"
             ],
             [
              0.6666666666666666,
              "#ed7953"
             ],
             [
              0.7777777777777778,
              "#fb9f3a"
             ],
             [
              0.8888888888888888,
              "#fdca26"
             ],
             [
              1,
              "#f0f921"
             ]
            ],
            "type": "histogram2d"
           }
          ],
          "histogram2dcontour": [
           {
            "colorbar": {
             "outlinewidth": 0,
             "ticks": ""
            },
            "colorscale": [
             [
              0,
              "#0d0887"
             ],
             [
              0.1111111111111111,
              "#46039f"
             ],
             [
              0.2222222222222222,
              "#7201a8"
             ],
             [
              0.3333333333333333,
              "#9c179e"
             ],
             [
              0.4444444444444444,
              "#bd3786"
             ],
             [
              0.5555555555555556,
              "#d8576b"
             ],
             [
              0.6666666666666666,
              "#ed7953"
             ],
             [
              0.7777777777777778,
              "#fb9f3a"
             ],
             [
              0.8888888888888888,
              "#fdca26"
             ],
             [
              1,
              "#f0f921"
             ]
            ],
            "type": "histogram2dcontour"
           }
          ],
          "mesh3d": [
           {
            "colorbar": {
             "outlinewidth": 0,
             "ticks": ""
            },
            "type": "mesh3d"
           }
          ],
          "parcoords": [
           {
            "line": {
             "colorbar": {
              "outlinewidth": 0,
              "ticks": ""
             }
            },
            "type": "parcoords"
           }
          ],
          "pie": [
           {
            "automargin": true,
            "type": "pie"
           }
          ],
          "scatter": [
           {
            "fillpattern": {
             "fillmode": "overlay",
             "size": 10,
             "solidity": 0.2
            },
            "type": "scatter"
           }
          ],
          "scatter3d": [
           {
            "line": {
             "colorbar": {
              "outlinewidth": 0,
              "ticks": ""
             }
            },
            "marker": {
             "colorbar": {
              "outlinewidth": 0,
              "ticks": ""
             }
            },
            "type": "scatter3d"
           }
          ],
          "scattercarpet": [
           {
            "marker": {
             "colorbar": {
              "outlinewidth": 0,
              "ticks": ""
             }
            },
            "type": "scattercarpet"
           }
          ],
          "scattergeo": [
           {
            "marker": {
             "colorbar": {
              "outlinewidth": 0,
              "ticks": ""
             }
            },
            "type": "scattergeo"
           }
          ],
          "scattergl": [
           {
            "marker": {
             "colorbar": {
              "outlinewidth": 0,
              "ticks": ""
             }
            },
            "type": "scattergl"
           }
          ],
          "scattermapbox": [
           {
            "marker": {
             "colorbar": {
              "outlinewidth": 0,
              "ticks": ""
             }
            },
            "type": "scattermapbox"
           }
          ],
          "scatterpolar": [
           {
            "marker": {
             "colorbar": {
              "outlinewidth": 0,
              "ticks": ""
             }
            },
            "type": "scatterpolar"
           }
          ],
          "scatterpolargl": [
           {
            "marker": {
             "colorbar": {
              "outlinewidth": 0,
              "ticks": ""
             }
            },
            "type": "scatterpolargl"
           }
          ],
          "scatterternary": [
           {
            "marker": {
             "colorbar": {
              "outlinewidth": 0,
              "ticks": ""
             }
            },
            "type": "scatterternary"
           }
          ],
          "surface": [
           {
            "colorbar": {
             "outlinewidth": 0,
             "ticks": ""
            },
            "colorscale": [
             [
              0,
              "#0d0887"
             ],
             [
              0.1111111111111111,
              "#46039f"
             ],
             [
              0.2222222222222222,
              "#7201a8"
             ],
             [
              0.3333333333333333,
              "#9c179e"
             ],
             [
              0.4444444444444444,
              "#bd3786"
             ],
             [
              0.5555555555555556,
              "#d8576b"
             ],
             [
              0.6666666666666666,
              "#ed7953"
             ],
             [
              0.7777777777777778,
              "#fb9f3a"
             ],
             [
              0.8888888888888888,
              "#fdca26"
             ],
             [
              1,
              "#f0f921"
             ]
            ],
            "type": "surface"
           }
          ],
          "table": [
           {
            "cells": {
             "fill": {
              "color": "#EBF0F8"
             },
             "line": {
              "color": "white"
             }
            },
            "header": {
             "fill": {
              "color": "#C8D4E3"
             },
             "line": {
              "color": "white"
             }
            },
            "type": "table"
           }
          ]
         },
         "layout": {
          "annotationdefaults": {
           "arrowcolor": "#2a3f5f",
           "arrowhead": 0,
           "arrowwidth": 1
          },
          "autotypenumbers": "strict",
          "coloraxis": {
           "colorbar": {
            "outlinewidth": 0,
            "ticks": ""
           }
          },
          "colorscale": {
           "diverging": [
            [
             0,
             "#8e0152"
            ],
            [
             0.1,
             "#c51b7d"
            ],
            [
             0.2,
             "#de77ae"
            ],
            [
             0.3,
             "#f1b6da"
            ],
            [
             0.4,
             "#fde0ef"
            ],
            [
             0.5,
             "#f7f7f7"
            ],
            [
             0.6,
             "#e6f5d0"
            ],
            [
             0.7,
             "#b8e186"
            ],
            [
             0.8,
             "#7fbc41"
            ],
            [
             0.9,
             "#4d9221"
            ],
            [
             1,
             "#276419"
            ]
           ],
           "sequential": [
            [
             0,
             "#0d0887"
            ],
            [
             0.1111111111111111,
             "#46039f"
            ],
            [
             0.2222222222222222,
             "#7201a8"
            ],
            [
             0.3333333333333333,
             "#9c179e"
            ],
            [
             0.4444444444444444,
             "#bd3786"
            ],
            [
             0.5555555555555556,
             "#d8576b"
            ],
            [
             0.6666666666666666,
             "#ed7953"
            ],
            [
             0.7777777777777778,
             "#fb9f3a"
            ],
            [
             0.8888888888888888,
             "#fdca26"
            ],
            [
             1,
             "#f0f921"
            ]
           ],
           "sequentialminus": [
            [
             0,
             "#0d0887"
            ],
            [
             0.1111111111111111,
             "#46039f"
            ],
            [
             0.2222222222222222,
             "#7201a8"
            ],
            [
             0.3333333333333333,
             "#9c179e"
            ],
            [
             0.4444444444444444,
             "#bd3786"
            ],
            [
             0.5555555555555556,
             "#d8576b"
            ],
            [
             0.6666666666666666,
             "#ed7953"
            ],
            [
             0.7777777777777778,
             "#fb9f3a"
            ],
            [
             0.8888888888888888,
             "#fdca26"
            ],
            [
             1,
             "#f0f921"
            ]
           ]
          },
          "colorway": [
           "#636efa",
           "#EF553B",
           "#00cc96",
           "#ab63fa",
           "#FFA15A",
           "#19d3f3",
           "#FF6692",
           "#B6E880",
           "#FF97FF",
           "#FECB52"
          ],
          "font": {
           "color": "#2a3f5f"
          },
          "geo": {
           "bgcolor": "white",
           "lakecolor": "white",
           "landcolor": "#E5ECF6",
           "showlakes": true,
           "showland": true,
           "subunitcolor": "white"
          },
          "hoverlabel": {
           "align": "left"
          },
          "hovermode": "closest",
          "mapbox": {
           "style": "light"
          },
          "paper_bgcolor": "white",
          "plot_bgcolor": "#E5ECF6",
          "polar": {
           "angularaxis": {
            "gridcolor": "white",
            "linecolor": "white",
            "ticks": ""
           },
           "bgcolor": "#E5ECF6",
           "radialaxis": {
            "gridcolor": "white",
            "linecolor": "white",
            "ticks": ""
           }
          },
          "scene": {
           "xaxis": {
            "backgroundcolor": "#E5ECF6",
            "gridcolor": "white",
            "gridwidth": 2,
            "linecolor": "white",
            "showbackground": true,
            "ticks": "",
            "zerolinecolor": "white"
           },
           "yaxis": {
            "backgroundcolor": "#E5ECF6",
            "gridcolor": "white",
            "gridwidth": 2,
            "linecolor": "white",
            "showbackground": true,
            "ticks": "",
            "zerolinecolor": "white"
           },
           "zaxis": {
            "backgroundcolor": "#E5ECF6",
            "gridcolor": "white",
            "gridwidth": 2,
            "linecolor": "white",
            "showbackground": true,
            "ticks": "",
            "zerolinecolor": "white"
           }
          },
          "shapedefaults": {
           "line": {
            "color": "#2a3f5f"
           }
          },
          "ternary": {
           "aaxis": {
            "gridcolor": "white",
            "linecolor": "white",
            "ticks": ""
           },
           "baxis": {
            "gridcolor": "white",
            "linecolor": "white",
            "ticks": ""
           },
           "bgcolor": "#E5ECF6",
           "caxis": {
            "gridcolor": "white",
            "linecolor": "white",
            "ticks": ""
           }
          },
          "title": {
           "x": 0.05
          },
          "xaxis": {
           "automargin": true,
           "gridcolor": "white",
           "linecolor": "white",
           "ticks": "",
           "title": {
            "standoff": 15
           },
           "zerolinecolor": "white",
           "zerolinewidth": 2
          },
          "yaxis": {
           "automargin": true,
           "gridcolor": "white",
           "linecolor": "white",
           "ticks": "",
           "title": {
            "standoff": 15
           },
           "zerolinecolor": "white",
           "zerolinewidth": 2
          }
         }
        },
        "title": {
         "font": {
          "size": 30
         },
         "text": "Assignee Hour Per Day Report",
         "x": 0.5
        },
        "xaxis": {
         "anchor": "y",
         "domain": [
          0,
          1
         ],
         "tickangle": 45,
         "tickmode": "array",
         "ticktext": [
          "24-Jan",
          "25-Jan",
          "26-Jan",
          "27-Jan",
          "28-Jan",
          "29-Jan",
          "30-Jan",
          "31-Jan",
          "01-Feb",
          "02-Feb",
          "03-Feb",
          "04-Feb",
          "05-Feb",
          "06-Feb",
          "07-Feb",
          "08-Feb",
          "09-Feb",
          "10-Feb",
          "11-Feb",
          "12-Feb",
          "13-Feb",
          "14-Feb",
          "15-Feb",
          "16-Feb",
          "17-Feb",
          "18-Feb",
          "19-Feb",
          "20-Feb",
          "21-Feb",
          "22-Feb",
          "23-Feb",
          "24-Feb",
          "25-Feb",
          "26-Feb",
          "27-Feb",
          "28-Feb",
          "29-Feb"
         ],
         "tickvals": [
          "2024-01-24T00:00:00",
          "2024-01-25T00:00:00",
          "2024-01-26T00:00:00",
          "2024-01-27T00:00:00",
          "2024-01-28T00:00:00",
          "2024-01-29T00:00:00",
          "2024-01-30T00:00:00",
          "2024-01-31T00:00:00",
          "2024-02-01T00:00:00",
          "2024-02-02T00:00:00",
          "2024-02-03T00:00:00",
          "2024-02-04T00:00:00",
          "2024-02-05T00:00:00",
          "2024-02-06T00:00:00",
          "2024-02-07T00:00:00",
          "2024-02-08T00:00:00",
          "2024-02-09T00:00:00",
          "2024-02-10T00:00:00",
          "2024-02-11T00:00:00",
          "2024-02-12T00:00:00",
          "2024-02-13T00:00:00",
          "2024-02-14T00:00:00",
          "2024-02-15T00:00:00",
          "2024-02-16T00:00:00",
          "2024-02-17T00:00:00",
          "2024-02-18T00:00:00",
          "2024-02-19T00:00:00",
          "2024-02-20T00:00:00",
          "2024-02-21T00:00:00",
          "2024-02-22T00:00:00",
          "2024-02-23T00:00:00",
          "2024-02-24T00:00:00",
          "2024-02-25T00:00:00",
          "2024-02-26T00:00:00",
          "2024-02-27T00:00:00",
          "2024-02-28T00:00:00",
          "2024-02-29T00:00:00"
         ],
         "title": {
          "text": "Bi-Weekly"
         }
        },
        "xaxis2": {
         "anchor": "y2",
         "domain": [
          0,
          1
         ],
         "tickangle": 45,
         "tickmode": "array",
         "ticktext": [
          "31-Jan",
          "01-Feb",
          "02-Feb",
          "03-Feb",
          "04-Feb",
          "05-Feb",
          "06-Feb",
          "07-Feb",
          "08-Feb",
          "09-Feb",
          "10-Feb",
          "11-Feb",
          "12-Feb",
          "13-Feb",
          "14-Feb",
          "15-Feb",
          "16-Feb",
          "17-Feb",
          "18-Feb",
          "19-Feb",
          "20-Feb",
          "21-Feb",
          "22-Feb",
          "23-Feb",
          "24-Feb",
          "25-Feb",
          "26-Feb",
          "27-Feb",
          "28-Feb",
          "29-Feb"
         ],
         "tickvals": [
          "2024-01-31T00:00:00",
          "2024-02-01T00:00:00",
          "2024-02-02T00:00:00",
          "2024-02-03T00:00:00",
          "2024-02-04T00:00:00",
          "2024-02-05T00:00:00",
          "2024-02-06T00:00:00",
          "2024-02-07T00:00:00",
          "2024-02-08T00:00:00",
          "2024-02-09T00:00:00",
          "2024-02-10T00:00:00",
          "2024-02-11T00:00:00",
          "2024-02-12T00:00:00",
          "2024-02-13T00:00:00",
          "2024-02-14T00:00:00",
          "2024-02-15T00:00:00",
          "2024-02-16T00:00:00",
          "2024-02-17T00:00:00",
          "2024-02-18T00:00:00",
          "2024-02-19T00:00:00",
          "2024-02-20T00:00:00",
          "2024-02-21T00:00:00",
          "2024-02-22T00:00:00",
          "2024-02-23T00:00:00",
          "2024-02-24T00:00:00",
          "2024-02-25T00:00:00",
          "2024-02-26T00:00:00",
          "2024-02-27T00:00:00",
          "2024-02-28T00:00:00",
          "2024-02-29T00:00:00"
         ],
         "title": {
          "text": "Monthly"
         }
        },
        "xaxis3": {
         "anchor": "y3",
         "domain": [
          0,
          1
         ],
         "tickangle": 45,
         "tickmode": "array",
         "ticktext": [
          "24-Jan",
          "25-Jan",
          "26-Jan",
          "27-Jan",
          "28-Jan",
          "29-Jan",
          "30-Jan",
          "31-Jan",
          "01-Feb",
          "02-Feb",
          "03-Feb",
          "04-Feb",
          "05-Feb",
          "06-Feb",
          "07-Feb",
          "08-Feb",
          "09-Feb",
          "10-Feb",
          "11-Feb",
          "12-Feb",
          "13-Feb",
          "14-Feb",
          "15-Feb",
          "16-Feb",
          "17-Feb",
          "18-Feb",
          "19-Feb",
          "20-Feb",
          "21-Feb",
          "22-Feb",
          "23-Feb",
          "24-Feb",
          "25-Feb",
          "26-Feb",
          "27-Feb",
          "28-Feb",
          "29-Feb"
         ],
         "tickvals": [
          "2024-01-24T00:00:00",
          "2024-01-25T00:00:00",
          "2024-01-26T00:00:00",
          "2024-01-27T00:00:00",
          "2024-01-28T00:00:00",
          "2024-01-29T00:00:00",
          "2024-01-30T00:00:00",
          "2024-01-31T00:00:00",
          "2024-02-01T00:00:00",
          "2024-02-02T00:00:00",
          "2024-02-03T00:00:00",
          "2024-02-04T00:00:00",
          "2024-02-05T00:00:00",
          "2024-02-06T00:00:00",
          "2024-02-07T00:00:00",
          "2024-02-08T00:00:00",
          "2024-02-09T00:00:00",
          "2024-02-10T00:00:00",
          "2024-02-11T00:00:00",
          "2024-02-12T00:00:00",
          "2024-02-13T00:00:00",
          "2024-02-14T00:00:00",
          "2024-02-15T00:00:00",
          "2024-02-16T00:00:00",
          "2024-02-17T00:00:00",
          "2024-02-18T00:00:00",
          "2024-02-19T00:00:00",
          "2024-02-20T00:00:00",
          "2024-02-21T00:00:00",
          "2024-02-22T00:00:00",
          "2024-02-23T00:00:00",
          "2024-02-24T00:00:00",
          "2024-02-25T00:00:00",
          "2024-02-26T00:00:00",
          "2024-02-27T00:00:00",
          "2024-02-28T00:00:00",
          "2024-02-29T00:00:00"
         ],
         "title": {
          "text": "Quarterly"
         }
        },
        "yaxis": {
         "anchor": "x",
         "domain": [
          0.7666666666666666,
          0.9999999999999999
         ],
         "title": {
          "text": "Hour"
         }
        },
        "yaxis2": {
         "anchor": "x2",
         "domain": [
          0.3833333333333333,
          0.6166666666666666
         ],
         "title": {
          "text": "Hour"
         }
        },
        "yaxis3": {
         "anchor": "x3",
         "domain": [
          0,
          0.2333333333333333
         ],
         "title": {
          "text": "Hour"
         }
        }
       }
      }
     },
     "metadata": {},
     "output_type": "display_data"
    }
   ],
   "source": [
    "from typing import List, Dict\n",
    "\n",
    "# import make_subplots\n",
    "from plotly.subplots import make_subplots\n",
    "\n",
    "\n",
    "def creat_fully_report_graph(\n",
    "    num_date_dict: Dict[str, int],\n",
    "    pivot_hour_per_day_df: pd.DataFrame,\n",
    "    fig_title: str = \"Fully Report\",\n",
    ") -> go.Figure:\n",
    "    num_date_list = list(num_date_dict.values())\n",
    "    column_list = pivot_hour_per_day_df.columns.tolist()\n",
    "    # remove date\n",
    "    column_list.remove(\"date\")\n",
    "    print(\"column_list\", column_list)\n",
    "    fig = make_subplots(\n",
    "        rows=len(num_date_list),\n",
    "        cols=1,\n",
    "        shared_xaxes=False,\n",
    "        vertical_spacing=0.15,\n",
    "    )\n",
    "    showlegend = True\n",
    "    # create color dict  from  column_list\n",
    "    color_line_dict = {\n",
    "        column: px.colors.qualitative.Plotly[i] for i, column in enumerate(column_list)\n",
    "    }\n",
    "    for plot_ind, (plot_name, num_date) in enumerate(num_date_dict.items()):\n",
    "        if plot_ind != 0:\n",
    "            showlegend = False\n",
    "        report_plot = pivot_hour_per_day_df.tail(num_date)\n",
    "        report_plot = report_plot.reset_index()\n",
    "        first_date = report_plot[\"date\"].min()\n",
    "        last_date = report_plot[\"date\"].max()\n",
    "        work_hour_list = [8] * len(report_plot)\n",
    "        date_list = report_plot[\"date\"].tolist()\n",
    "        for date in date_list:\n",
    "            if date in holiday_list:\n",
    "                work_hour_list[date_list.index(date)] = 0\n",
    "            if date.weekday() in [5, 6]:\n",
    "                work_hour_list[date_list.index(date)] = 0\n",
    "\n",
    "        for column in column_list:\n",
    "            fig.add_trace(\n",
    "                go.Scatter(\n",
    "                    x=report_plot[\"date\"],\n",
    "                    y=report_plot[column],\n",
    "                    mode=\"lines+markers\",\n",
    "                    name=column,\n",
    "                    showlegend=showlegend,\n",
    "                    legendgroup=column,\n",
    "                    line=dict(color=color_line_dict[column]),\n",
    "                ),\n",
    "                row=plot_ind + 1,\n",
    "                col=1,\n",
    "            )\n",
    "\n",
    "        fig.add_trace(\n",
    "            go.Scatter(\n",
    "                x=report_plot[\"date\"],\n",
    "                y=work_hour_list,\n",
    "                mode=\"lines\",\n",
    "                name=\"8 hour\",\n",
    "                line=dict(color=\"green\", dash=\"dash\"),\n",
    "                showlegend=False,\n",
    "            ),\n",
    "            row=plot_ind + 1,\n",
    "            col=1,\n",
    "        )\n",
    "\n",
    "        fig.update_layout(\n",
    "            xaxis=dict(\n",
    "                tickmode=\"array\",\n",
    "                tickvals=report_plot[\"date\"].tolist(),\n",
    "                ticktext=report_plot[\"date\"].dt.strftime(\"%d-%b\").tolist(),\n",
    "                tickangle=45,\n",
    "            ),\n",
    "        )\n",
    "        fig.update_xaxes(\n",
    "            **dict(\n",
    "                tickmode=\"array\",\n",
    "                tickvals=report_plot[\"date\"].tolist(),\n",
    "                ticktext=report_plot[\"date\"].dt.strftime(\"%d-%b\").tolist(),\n",
    "                tickangle=45,\n",
    "            ),\n",
    "            row=plot_ind + 1,\n",
    "            col=1,\n",
    "            title_text=plot_name,\n",
    "        )\n",
    "\n",
    "        fig.update_yaxes(title_text=\"Hour\", row=plot_ind + 1, col=1)\n",
    "        fig.update_layout(\n",
    "            title=fig_title,\n",
    "            title_x=0.5,\n",
    "            # title font size\n",
    "            title_font_size=30,\n",
    "        )\n",
    "        #     showlegend=True,  # Show the legend\n",
    "        #     legend=dict(\n",
    "        #         x=0.5,\n",
    "        #         y=0.5,\n",
    "        #         orientation=\"h\",\n",
    "        #     ),\n",
    "        # )\n",
    "    return fig\n",
    "\n",
    "\n",
    "num_date_dict = {\n",
    "    \"Bi-Weekly\": 14,\n",
    "    \"Monthly\": 30,\n",
    "    \"Quarterly\": 90,\n",
    "}\n",
    "\n",
    "fully_report_graph = creat_fully_report_graph(\n",
    "    num_date_dict,\n",
    "    assignee_hour_per_day_df,\n",
    "    fig_title=\"Assignee Hour Per Day Report\",\n",
    ")\n",
    "fully_report_graph.show()\n",
    "fully_report_graph.write_html(\"Assignee Hour Per Day Report.html\")"
   ]
  },
  {
   "cell_type": "code",
   "execution_count": 15,
   "metadata": {},
   "outputs": [
    {
     "name": "stdout",
     "output_type": "stream",
     "text": [
      "column_list ['location', 'test_epic']\n"
     ]
    },
    {
     "data": {
      "application/vnd.plotly.v1+json": {
       "config": {
        "plotlyServerURL": "https://plot.ly"
       },
       "data": [
        {
         "legendgroup": "location",
         "line": {
          "color": "#636EFA"
         },
         "mode": "lines+markers",
         "name": "location",
         "showlegend": true,
         "type": "scatter",
         "x": [
          "2024-02-16T00:00:00",
          "2024-02-17T00:00:00",
          "2024-02-18T00:00:00",
          "2024-02-19T00:00:00",
          "2024-02-20T00:00:00",
          "2024-02-21T00:00:00",
          "2024-02-22T00:00:00",
          "2024-02-23T00:00:00",
          "2024-02-24T00:00:00",
          "2024-02-25T00:00:00",
          "2024-02-26T00:00:00",
          "2024-02-27T00:00:00",
          "2024-02-28T00:00:00",
          "2024-02-29T00:00:00"
         ],
         "xaxis": "x",
         "y": [
          8,
          0,
          0,
          11,
          11,
          11,
          11,
          9,
          0,
          0,
          0,
          6,
          6,
          6
         ],
         "yaxis": "y"
        },
        {
         "legendgroup": "test_epic",
         "line": {
          "color": "#EF553B"
         },
         "mode": "lines+markers",
         "name": "test_epic",
         "showlegend": true,
         "type": "scatter",
         "x": [
          "2024-02-16T00:00:00",
          "2024-02-17T00:00:00",
          "2024-02-18T00:00:00",
          "2024-02-19T00:00:00",
          "2024-02-20T00:00:00",
          "2024-02-21T00:00:00",
          "2024-02-22T00:00:00",
          "2024-02-23T00:00:00",
          "2024-02-24T00:00:00",
          "2024-02-25T00:00:00",
          "2024-02-26T00:00:00",
          "2024-02-27T00:00:00",
          "2024-02-28T00:00:00",
          "2024-02-29T00:00:00"
         ],
         "xaxis": "x",
         "y": [
          19.305555555555557,
          0,
          0,
          27.63888888888889,
          27.63888888888889,
          27.63888888888889,
          27.63888888888889,
          13.88888888888889,
          0,
          0,
          0,
          13.88888888888889,
          5.555555555555555,
          0
         ],
         "yaxis": "y"
        },
        {
         "line": {
          "color": "green",
          "dash": "dash"
         },
         "mode": "lines",
         "name": "8 hour",
         "showlegend": false,
         "type": "scatter",
         "x": [
          "2024-02-16T00:00:00",
          "2024-02-17T00:00:00",
          "2024-02-18T00:00:00",
          "2024-02-19T00:00:00",
          "2024-02-20T00:00:00",
          "2024-02-21T00:00:00",
          "2024-02-22T00:00:00",
          "2024-02-23T00:00:00",
          "2024-02-24T00:00:00",
          "2024-02-25T00:00:00",
          "2024-02-26T00:00:00",
          "2024-02-27T00:00:00",
          "2024-02-28T00:00:00",
          "2024-02-29T00:00:00"
         ],
         "xaxis": "x",
         "y": [
          8,
          0,
          0,
          8,
          8,
          8,
          8,
          8,
          0,
          0,
          0,
          8,
          8,
          8
         ],
         "yaxis": "y"
        },
        {
         "legendgroup": "location",
         "line": {
          "color": "#636EFA"
         },
         "mode": "lines+markers",
         "name": "location",
         "showlegend": false,
         "type": "scatter",
         "x": [
          "2024-01-31T00:00:00",
          "2024-02-01T00:00:00",
          "2024-02-02T00:00:00",
          "2024-02-03T00:00:00",
          "2024-02-04T00:00:00",
          "2024-02-05T00:00:00",
          "2024-02-06T00:00:00",
          "2024-02-07T00:00:00",
          "2024-02-08T00:00:00",
          "2024-02-09T00:00:00",
          "2024-02-10T00:00:00",
          "2024-02-11T00:00:00",
          "2024-02-12T00:00:00",
          "2024-02-13T00:00:00",
          "2024-02-14T00:00:00",
          "2024-02-15T00:00:00",
          "2024-02-16T00:00:00",
          "2024-02-17T00:00:00",
          "2024-02-18T00:00:00",
          "2024-02-19T00:00:00",
          "2024-02-20T00:00:00",
          "2024-02-21T00:00:00",
          "2024-02-22T00:00:00",
          "2024-02-23T00:00:00",
          "2024-02-24T00:00:00",
          "2024-02-25T00:00:00",
          "2024-02-26T00:00:00",
          "2024-02-27T00:00:00",
          "2024-02-28T00:00:00",
          "2024-02-29T00:00:00"
         ],
         "xaxis": "x2",
         "y": [
          0.3333333333333333,
          0,
          0,
          0,
          0,
          0,
          0,
          0,
          0,
          0,
          0,
          0,
          0,
          0,
          0,
          8,
          8,
          0,
          0,
          11,
          11,
          11,
          11,
          9,
          0,
          0,
          0,
          6,
          6,
          6
         ],
         "yaxis": "y2"
        },
        {
         "legendgroup": "test_epic",
         "line": {
          "color": "#EF553B"
         },
         "mode": "lines+markers",
         "name": "test_epic",
         "showlegend": false,
         "type": "scatter",
         "x": [
          "2024-01-31T00:00:00",
          "2024-02-01T00:00:00",
          "2024-02-02T00:00:00",
          "2024-02-03T00:00:00",
          "2024-02-04T00:00:00",
          "2024-02-05T00:00:00",
          "2024-02-06T00:00:00",
          "2024-02-07T00:00:00",
          "2024-02-08T00:00:00",
          "2024-02-09T00:00:00",
          "2024-02-10T00:00:00",
          "2024-02-11T00:00:00",
          "2024-02-12T00:00:00",
          "2024-02-13T00:00:00",
          "2024-02-14T00:00:00",
          "2024-02-15T00:00:00",
          "2024-02-16T00:00:00",
          "2024-02-17T00:00:00",
          "2024-02-18T00:00:00",
          "2024-02-19T00:00:00",
          "2024-02-20T00:00:00",
          "2024-02-21T00:00:00",
          "2024-02-22T00:00:00",
          "2024-02-23T00:00:00",
          "2024-02-24T00:00:00",
          "2024-02-25T00:00:00",
          "2024-02-26T00:00:00",
          "2024-02-27T00:00:00",
          "2024-02-28T00:00:00",
          "2024-02-29T00:00:00"
         ],
         "xaxis": "x2",
         "y": [
          0,
          0,
          0,
          0,
          0,
          0,
          0,
          0,
          10,
          10,
          0,
          0,
          0,
          13.75,
          13.75,
          19.305555555555557,
          19.305555555555557,
          0,
          0,
          27.63888888888889,
          27.63888888888889,
          27.63888888888889,
          27.63888888888889,
          13.88888888888889,
          0,
          0,
          0,
          13.88888888888889,
          5.555555555555555,
          0
         ],
         "yaxis": "y2"
        },
        {
         "line": {
          "color": "green",
          "dash": "dash"
         },
         "mode": "lines",
         "name": "8 hour",
         "showlegend": false,
         "type": "scatter",
         "x": [
          "2024-01-31T00:00:00",
          "2024-02-01T00:00:00",
          "2024-02-02T00:00:00",
          "2024-02-03T00:00:00",
          "2024-02-04T00:00:00",
          "2024-02-05T00:00:00",
          "2024-02-06T00:00:00",
          "2024-02-07T00:00:00",
          "2024-02-08T00:00:00",
          "2024-02-09T00:00:00",
          "2024-02-10T00:00:00",
          "2024-02-11T00:00:00",
          "2024-02-12T00:00:00",
          "2024-02-13T00:00:00",
          "2024-02-14T00:00:00",
          "2024-02-15T00:00:00",
          "2024-02-16T00:00:00",
          "2024-02-17T00:00:00",
          "2024-02-18T00:00:00",
          "2024-02-19T00:00:00",
          "2024-02-20T00:00:00",
          "2024-02-21T00:00:00",
          "2024-02-22T00:00:00",
          "2024-02-23T00:00:00",
          "2024-02-24T00:00:00",
          "2024-02-25T00:00:00",
          "2024-02-26T00:00:00",
          "2024-02-27T00:00:00",
          "2024-02-28T00:00:00",
          "2024-02-29T00:00:00"
         ],
         "xaxis": "x2",
         "y": [
          8,
          8,
          8,
          0,
          0,
          8,
          8,
          8,
          8,
          8,
          0,
          0,
          0,
          8,
          8,
          8,
          8,
          0,
          0,
          8,
          8,
          8,
          8,
          8,
          0,
          0,
          0,
          8,
          8,
          8
         ],
         "yaxis": "y2"
        },
        {
         "legendgroup": "location",
         "line": {
          "color": "#636EFA"
         },
         "mode": "lines+markers",
         "name": "location",
         "showlegend": false,
         "type": "scatter",
         "x": [
          "2024-01-24T00:00:00",
          "2024-01-25T00:00:00",
          "2024-01-26T00:00:00",
          "2024-01-27T00:00:00",
          "2024-01-28T00:00:00",
          "2024-01-29T00:00:00",
          "2024-01-30T00:00:00",
          "2024-01-31T00:00:00",
          "2024-02-01T00:00:00",
          "2024-02-02T00:00:00",
          "2024-02-03T00:00:00",
          "2024-02-04T00:00:00",
          "2024-02-05T00:00:00",
          "2024-02-06T00:00:00",
          "2024-02-07T00:00:00",
          "2024-02-08T00:00:00",
          "2024-02-09T00:00:00",
          "2024-02-10T00:00:00",
          "2024-02-11T00:00:00",
          "2024-02-12T00:00:00",
          "2024-02-13T00:00:00",
          "2024-02-14T00:00:00",
          "2024-02-15T00:00:00",
          "2024-02-16T00:00:00",
          "2024-02-17T00:00:00",
          "2024-02-18T00:00:00",
          "2024-02-19T00:00:00",
          "2024-02-20T00:00:00",
          "2024-02-21T00:00:00",
          "2024-02-22T00:00:00",
          "2024-02-23T00:00:00",
          "2024-02-24T00:00:00",
          "2024-02-25T00:00:00",
          "2024-02-26T00:00:00",
          "2024-02-27T00:00:00",
          "2024-02-28T00:00:00",
          "2024-02-29T00:00:00"
         ],
         "xaxis": "x3",
         "y": [
          0.3333333333333333,
          0.3333333333333333,
          0.3333333333333333,
          0,
          0,
          0.3333333333333333,
          0.3333333333333333,
          0.3333333333333333,
          0,
          0,
          0,
          0,
          0,
          0,
          0,
          0,
          0,
          0,
          0,
          0,
          0,
          0,
          8,
          8,
          0,
          0,
          11,
          11,
          11,
          11,
          9,
          0,
          0,
          0,
          6,
          6,
          6
         ],
         "yaxis": "y3"
        },
        {
         "legendgroup": "test_epic",
         "line": {
          "color": "#EF553B"
         },
         "mode": "lines+markers",
         "name": "test_epic",
         "showlegend": false,
         "type": "scatter",
         "x": [
          "2024-01-24T00:00:00",
          "2024-01-25T00:00:00",
          "2024-01-26T00:00:00",
          "2024-01-27T00:00:00",
          "2024-01-28T00:00:00",
          "2024-01-29T00:00:00",
          "2024-01-30T00:00:00",
          "2024-01-31T00:00:00",
          "2024-02-01T00:00:00",
          "2024-02-02T00:00:00",
          "2024-02-03T00:00:00",
          "2024-02-04T00:00:00",
          "2024-02-05T00:00:00",
          "2024-02-06T00:00:00",
          "2024-02-07T00:00:00",
          "2024-02-08T00:00:00",
          "2024-02-09T00:00:00",
          "2024-02-10T00:00:00",
          "2024-02-11T00:00:00",
          "2024-02-12T00:00:00",
          "2024-02-13T00:00:00",
          "2024-02-14T00:00:00",
          "2024-02-15T00:00:00",
          "2024-02-16T00:00:00",
          "2024-02-17T00:00:00",
          "2024-02-18T00:00:00",
          "2024-02-19T00:00:00",
          "2024-02-20T00:00:00",
          "2024-02-21T00:00:00",
          "2024-02-22T00:00:00",
          "2024-02-23T00:00:00",
          "2024-02-24T00:00:00",
          "2024-02-25T00:00:00",
          "2024-02-26T00:00:00",
          "2024-02-27T00:00:00",
          "2024-02-28T00:00:00",
          "2024-02-29T00:00:00"
         ],
         "xaxis": "x3",
         "y": [
          0,
          0,
          0,
          0,
          0,
          0,
          0,
          0,
          0,
          0,
          0,
          0,
          0,
          0,
          0,
          10,
          10,
          0,
          0,
          0,
          13.75,
          13.75,
          19.305555555555557,
          19.305555555555557,
          0,
          0,
          27.63888888888889,
          27.63888888888889,
          27.63888888888889,
          27.63888888888889,
          13.88888888888889,
          0,
          0,
          0,
          13.88888888888889,
          5.555555555555555,
          0
         ],
         "yaxis": "y3"
        },
        {
         "line": {
          "color": "green",
          "dash": "dash"
         },
         "mode": "lines",
         "name": "8 hour",
         "showlegend": false,
         "type": "scatter",
         "x": [
          "2024-01-24T00:00:00",
          "2024-01-25T00:00:00",
          "2024-01-26T00:00:00",
          "2024-01-27T00:00:00",
          "2024-01-28T00:00:00",
          "2024-01-29T00:00:00",
          "2024-01-30T00:00:00",
          "2024-01-31T00:00:00",
          "2024-02-01T00:00:00",
          "2024-02-02T00:00:00",
          "2024-02-03T00:00:00",
          "2024-02-04T00:00:00",
          "2024-02-05T00:00:00",
          "2024-02-06T00:00:00",
          "2024-02-07T00:00:00",
          "2024-02-08T00:00:00",
          "2024-02-09T00:00:00",
          "2024-02-10T00:00:00",
          "2024-02-11T00:00:00",
          "2024-02-12T00:00:00",
          "2024-02-13T00:00:00",
          "2024-02-14T00:00:00",
          "2024-02-15T00:00:00",
          "2024-02-16T00:00:00",
          "2024-02-17T00:00:00",
          "2024-02-18T00:00:00",
          "2024-02-19T00:00:00",
          "2024-02-20T00:00:00",
          "2024-02-21T00:00:00",
          "2024-02-22T00:00:00",
          "2024-02-23T00:00:00",
          "2024-02-24T00:00:00",
          "2024-02-25T00:00:00",
          "2024-02-26T00:00:00",
          "2024-02-27T00:00:00",
          "2024-02-28T00:00:00",
          "2024-02-29T00:00:00"
         ],
         "xaxis": "x3",
         "y": [
          8,
          8,
          8,
          0,
          0,
          8,
          8,
          8,
          8,
          8,
          0,
          0,
          8,
          8,
          8,
          8,
          8,
          0,
          0,
          0,
          8,
          8,
          8,
          8,
          0,
          0,
          8,
          8,
          8,
          8,
          8,
          0,
          0,
          0,
          8,
          8,
          8
         ],
         "yaxis": "y3"
        }
       ],
       "layout": {
        "template": {
         "data": {
          "bar": [
           {
            "error_x": {
             "color": "#2a3f5f"
            },
            "error_y": {
             "color": "#2a3f5f"
            },
            "marker": {
             "line": {
              "color": "#E5ECF6",
              "width": 0.5
             },
             "pattern": {
              "fillmode": "overlay",
              "size": 10,
              "solidity": 0.2
             }
            },
            "type": "bar"
           }
          ],
          "barpolar": [
           {
            "marker": {
             "line": {
              "color": "#E5ECF6",
              "width": 0.5
             },
             "pattern": {
              "fillmode": "overlay",
              "size": 10,
              "solidity": 0.2
             }
            },
            "type": "barpolar"
           }
          ],
          "carpet": [
           {
            "aaxis": {
             "endlinecolor": "#2a3f5f",
             "gridcolor": "white",
             "linecolor": "white",
             "minorgridcolor": "white",
             "startlinecolor": "#2a3f5f"
            },
            "baxis": {
             "endlinecolor": "#2a3f5f",
             "gridcolor": "white",
             "linecolor": "white",
             "minorgridcolor": "white",
             "startlinecolor": "#2a3f5f"
            },
            "type": "carpet"
           }
          ],
          "choropleth": [
           {
            "colorbar": {
             "outlinewidth": 0,
             "ticks": ""
            },
            "type": "choropleth"
           }
          ],
          "contour": [
           {
            "colorbar": {
             "outlinewidth": 0,
             "ticks": ""
            },
            "colorscale": [
             [
              0,
              "#0d0887"
             ],
             [
              0.1111111111111111,
              "#46039f"
             ],
             [
              0.2222222222222222,
              "#7201a8"
             ],
             [
              0.3333333333333333,
              "#9c179e"
             ],
             [
              0.4444444444444444,
              "#bd3786"
             ],
             [
              0.5555555555555556,
              "#d8576b"
             ],
             [
              0.6666666666666666,
              "#ed7953"
             ],
             [
              0.7777777777777778,
              "#fb9f3a"
             ],
             [
              0.8888888888888888,
              "#fdca26"
             ],
             [
              1,
              "#f0f921"
             ]
            ],
            "type": "contour"
           }
          ],
          "contourcarpet": [
           {
            "colorbar": {
             "outlinewidth": 0,
             "ticks": ""
            },
            "type": "contourcarpet"
           }
          ],
          "heatmap": [
           {
            "colorbar": {
             "outlinewidth": 0,
             "ticks": ""
            },
            "colorscale": [
             [
              0,
              "#0d0887"
             ],
             [
              0.1111111111111111,
              "#46039f"
             ],
             [
              0.2222222222222222,
              "#7201a8"
             ],
             [
              0.3333333333333333,
              "#9c179e"
             ],
             [
              0.4444444444444444,
              "#bd3786"
             ],
             [
              0.5555555555555556,
              "#d8576b"
             ],
             [
              0.6666666666666666,
              "#ed7953"
             ],
             [
              0.7777777777777778,
              "#fb9f3a"
             ],
             [
              0.8888888888888888,
              "#fdca26"
             ],
             [
              1,
              "#f0f921"
             ]
            ],
            "type": "heatmap"
           }
          ],
          "heatmapgl": [
           {
            "colorbar": {
             "outlinewidth": 0,
             "ticks": ""
            },
            "colorscale": [
             [
              0,
              "#0d0887"
             ],
             [
              0.1111111111111111,
              "#46039f"
             ],
             [
              0.2222222222222222,
              "#7201a8"
             ],
             [
              0.3333333333333333,
              "#9c179e"
             ],
             [
              0.4444444444444444,
              "#bd3786"
             ],
             [
              0.5555555555555556,
              "#d8576b"
             ],
             [
              0.6666666666666666,
              "#ed7953"
             ],
             [
              0.7777777777777778,
              "#fb9f3a"
             ],
             [
              0.8888888888888888,
              "#fdca26"
             ],
             [
              1,
              "#f0f921"
             ]
            ],
            "type": "heatmapgl"
           }
          ],
          "histogram": [
           {
            "marker": {
             "pattern": {
              "fillmode": "overlay",
              "size": 10,
              "solidity": 0.2
             }
            },
            "type": "histogram"
           }
          ],
          "histogram2d": [
           {
            "colorbar": {
             "outlinewidth": 0,
             "ticks": ""
            },
            "colorscale": [
             [
              0,
              "#0d0887"
             ],
             [
              0.1111111111111111,
              "#46039f"
             ],
             [
              0.2222222222222222,
              "#7201a8"
             ],
             [
              0.3333333333333333,
              "#9c179e"
             ],
             [
              0.4444444444444444,
              "#bd3786"
             ],
             [
              0.5555555555555556,
              "#d8576b"
             ],
             [
              0.6666666666666666,
              "#ed7953"
             ],
             [
              0.7777777777777778,
              "#fb9f3a"
             ],
             [
              0.8888888888888888,
              "#fdca26"
             ],
             [
              1,
              "#f0f921"
             ]
            ],
            "type": "histogram2d"
           }
          ],
          "histogram2dcontour": [
           {
            "colorbar": {
             "outlinewidth": 0,
             "ticks": ""
            },
            "colorscale": [
             [
              0,
              "#0d0887"
             ],
             [
              0.1111111111111111,
              "#46039f"
             ],
             [
              0.2222222222222222,
              "#7201a8"
             ],
             [
              0.3333333333333333,
              "#9c179e"
             ],
             [
              0.4444444444444444,
              "#bd3786"
             ],
             [
              0.5555555555555556,
              "#d8576b"
             ],
             [
              0.6666666666666666,
              "#ed7953"
             ],
             [
              0.7777777777777778,
              "#fb9f3a"
             ],
             [
              0.8888888888888888,
              "#fdca26"
             ],
             [
              1,
              "#f0f921"
             ]
            ],
            "type": "histogram2dcontour"
           }
          ],
          "mesh3d": [
           {
            "colorbar": {
             "outlinewidth": 0,
             "ticks": ""
            },
            "type": "mesh3d"
           }
          ],
          "parcoords": [
           {
            "line": {
             "colorbar": {
              "outlinewidth": 0,
              "ticks": ""
             }
            },
            "type": "parcoords"
           }
          ],
          "pie": [
           {
            "automargin": true,
            "type": "pie"
           }
          ],
          "scatter": [
           {
            "fillpattern": {
             "fillmode": "overlay",
             "size": 10,
             "solidity": 0.2
            },
            "type": "scatter"
           }
          ],
          "scatter3d": [
           {
            "line": {
             "colorbar": {
              "outlinewidth": 0,
              "ticks": ""
             }
            },
            "marker": {
             "colorbar": {
              "outlinewidth": 0,
              "ticks": ""
             }
            },
            "type": "scatter3d"
           }
          ],
          "scattercarpet": [
           {
            "marker": {
             "colorbar": {
              "outlinewidth": 0,
              "ticks": ""
             }
            },
            "type": "scattercarpet"
           }
          ],
          "scattergeo": [
           {
            "marker": {
             "colorbar": {
              "outlinewidth": 0,
              "ticks": ""
             }
            },
            "type": "scattergeo"
           }
          ],
          "scattergl": [
           {
            "marker": {
             "colorbar": {
              "outlinewidth": 0,
              "ticks": ""
             }
            },
            "type": "scattergl"
           }
          ],
          "scattermapbox": [
           {
            "marker": {
             "colorbar": {
              "outlinewidth": 0,
              "ticks": ""
             }
            },
            "type": "scattermapbox"
           }
          ],
          "scatterpolar": [
           {
            "marker": {
             "colorbar": {
              "outlinewidth": 0,
              "ticks": ""
             }
            },
            "type": "scatterpolar"
           }
          ],
          "scatterpolargl": [
           {
            "marker": {
             "colorbar": {
              "outlinewidth": 0,
              "ticks": ""
             }
            },
            "type": "scatterpolargl"
           }
          ],
          "scatterternary": [
           {
            "marker": {
             "colorbar": {
              "outlinewidth": 0,
              "ticks": ""
             }
            },
            "type": "scatterternary"
           }
          ],
          "surface": [
           {
            "colorbar": {
             "outlinewidth": 0,
             "ticks": ""
            },
            "colorscale": [
             [
              0,
              "#0d0887"
             ],
             [
              0.1111111111111111,
              "#46039f"
             ],
             [
              0.2222222222222222,
              "#7201a8"
             ],
             [
              0.3333333333333333,
              "#9c179e"
             ],
             [
              0.4444444444444444,
              "#bd3786"
             ],
             [
              0.5555555555555556,
              "#d8576b"
             ],
             [
              0.6666666666666666,
              "#ed7953"
             ],
             [
              0.7777777777777778,
              "#fb9f3a"
             ],
             [
              0.8888888888888888,
              "#fdca26"
             ],
             [
              1,
              "#f0f921"
             ]
            ],
            "type": "surface"
           }
          ],
          "table": [
           {
            "cells": {
             "fill": {
              "color": "#EBF0F8"
             },
             "line": {
              "color": "white"
             }
            },
            "header": {
             "fill": {
              "color": "#C8D4E3"
             },
             "line": {
              "color": "white"
             }
            },
            "type": "table"
           }
          ]
         },
         "layout": {
          "annotationdefaults": {
           "arrowcolor": "#2a3f5f",
           "arrowhead": 0,
           "arrowwidth": 1
          },
          "autotypenumbers": "strict",
          "coloraxis": {
           "colorbar": {
            "outlinewidth": 0,
            "ticks": ""
           }
          },
          "colorscale": {
           "diverging": [
            [
             0,
             "#8e0152"
            ],
            [
             0.1,
             "#c51b7d"
            ],
            [
             0.2,
             "#de77ae"
            ],
            [
             0.3,
             "#f1b6da"
            ],
            [
             0.4,
             "#fde0ef"
            ],
            [
             0.5,
             "#f7f7f7"
            ],
            [
             0.6,
             "#e6f5d0"
            ],
            [
             0.7,
             "#b8e186"
            ],
            [
             0.8,
             "#7fbc41"
            ],
            [
             0.9,
             "#4d9221"
            ],
            [
             1,
             "#276419"
            ]
           ],
           "sequential": [
            [
             0,
             "#0d0887"
            ],
            [
             0.1111111111111111,
             "#46039f"
            ],
            [
             0.2222222222222222,
             "#7201a8"
            ],
            [
             0.3333333333333333,
             "#9c179e"
            ],
            [
             0.4444444444444444,
             "#bd3786"
            ],
            [
             0.5555555555555556,
             "#d8576b"
            ],
            [
             0.6666666666666666,
             "#ed7953"
            ],
            [
             0.7777777777777778,
             "#fb9f3a"
            ],
            [
             0.8888888888888888,
             "#fdca26"
            ],
            [
             1,
             "#f0f921"
            ]
           ],
           "sequentialminus": [
            [
             0,
             "#0d0887"
            ],
            [
             0.1111111111111111,
             "#46039f"
            ],
            [
             0.2222222222222222,
             "#7201a8"
            ],
            [
             0.3333333333333333,
             "#9c179e"
            ],
            [
             0.4444444444444444,
             "#bd3786"
            ],
            [
             0.5555555555555556,
             "#d8576b"
            ],
            [
             0.6666666666666666,
             "#ed7953"
            ],
            [
             0.7777777777777778,
             "#fb9f3a"
            ],
            [
             0.8888888888888888,
             "#fdca26"
            ],
            [
             1,
             "#f0f921"
            ]
           ]
          },
          "colorway": [
           "#636efa",
           "#EF553B",
           "#00cc96",
           "#ab63fa",
           "#FFA15A",
           "#19d3f3",
           "#FF6692",
           "#B6E880",
           "#FF97FF",
           "#FECB52"
          ],
          "font": {
           "color": "#2a3f5f"
          },
          "geo": {
           "bgcolor": "white",
           "lakecolor": "white",
           "landcolor": "#E5ECF6",
           "showlakes": true,
           "showland": true,
           "subunitcolor": "white"
          },
          "hoverlabel": {
           "align": "left"
          },
          "hovermode": "closest",
          "mapbox": {
           "style": "light"
          },
          "paper_bgcolor": "white",
          "plot_bgcolor": "#E5ECF6",
          "polar": {
           "angularaxis": {
            "gridcolor": "white",
            "linecolor": "white",
            "ticks": ""
           },
           "bgcolor": "#E5ECF6",
           "radialaxis": {
            "gridcolor": "white",
            "linecolor": "white",
            "ticks": ""
           }
          },
          "scene": {
           "xaxis": {
            "backgroundcolor": "#E5ECF6",
            "gridcolor": "white",
            "gridwidth": 2,
            "linecolor": "white",
            "showbackground": true,
            "ticks": "",
            "zerolinecolor": "white"
           },
           "yaxis": {
            "backgroundcolor": "#E5ECF6",
            "gridcolor": "white",
            "gridwidth": 2,
            "linecolor": "white",
            "showbackground": true,
            "ticks": "",
            "zerolinecolor": "white"
           },
           "zaxis": {
            "backgroundcolor": "#E5ECF6",
            "gridcolor": "white",
            "gridwidth": 2,
            "linecolor": "white",
            "showbackground": true,
            "ticks": "",
            "zerolinecolor": "white"
           }
          },
          "shapedefaults": {
           "line": {
            "color": "#2a3f5f"
           }
          },
          "ternary": {
           "aaxis": {
            "gridcolor": "white",
            "linecolor": "white",
            "ticks": ""
           },
           "baxis": {
            "gridcolor": "white",
            "linecolor": "white",
            "ticks": ""
           },
           "bgcolor": "#E5ECF6",
           "caxis": {
            "gridcolor": "white",
            "linecolor": "white",
            "ticks": ""
           }
          },
          "title": {
           "x": 0.05
          },
          "xaxis": {
           "automargin": true,
           "gridcolor": "white",
           "linecolor": "white",
           "ticks": "",
           "title": {
            "standoff": 15
           },
           "zerolinecolor": "white",
           "zerolinewidth": 2
          },
          "yaxis": {
           "automargin": true,
           "gridcolor": "white",
           "linecolor": "white",
           "ticks": "",
           "title": {
            "standoff": 15
           },
           "zerolinecolor": "white",
           "zerolinewidth": 2
          }
         }
        },
        "title": {
         "font": {
          "size": 30
         },
         "text": "Project Hour Per Day Report",
         "x": 0.5
        },
        "xaxis": {
         "anchor": "y",
         "domain": [
          0,
          1
         ],
         "tickangle": 45,
         "tickmode": "array",
         "ticktext": [
          "24-Jan",
          "25-Jan",
          "26-Jan",
          "27-Jan",
          "28-Jan",
          "29-Jan",
          "30-Jan",
          "31-Jan",
          "01-Feb",
          "02-Feb",
          "03-Feb",
          "04-Feb",
          "05-Feb",
          "06-Feb",
          "07-Feb",
          "08-Feb",
          "09-Feb",
          "10-Feb",
          "11-Feb",
          "12-Feb",
          "13-Feb",
          "14-Feb",
          "15-Feb",
          "16-Feb",
          "17-Feb",
          "18-Feb",
          "19-Feb",
          "20-Feb",
          "21-Feb",
          "22-Feb",
          "23-Feb",
          "24-Feb",
          "25-Feb",
          "26-Feb",
          "27-Feb",
          "28-Feb",
          "29-Feb"
         ],
         "tickvals": [
          "2024-01-24T00:00:00",
          "2024-01-25T00:00:00",
          "2024-01-26T00:00:00",
          "2024-01-27T00:00:00",
          "2024-01-28T00:00:00",
          "2024-01-29T00:00:00",
          "2024-01-30T00:00:00",
          "2024-01-31T00:00:00",
          "2024-02-01T00:00:00",
          "2024-02-02T00:00:00",
          "2024-02-03T00:00:00",
          "2024-02-04T00:00:00",
          "2024-02-05T00:00:00",
          "2024-02-06T00:00:00",
          "2024-02-07T00:00:00",
          "2024-02-08T00:00:00",
          "2024-02-09T00:00:00",
          "2024-02-10T00:00:00",
          "2024-02-11T00:00:00",
          "2024-02-12T00:00:00",
          "2024-02-13T00:00:00",
          "2024-02-14T00:00:00",
          "2024-02-15T00:00:00",
          "2024-02-16T00:00:00",
          "2024-02-17T00:00:00",
          "2024-02-18T00:00:00",
          "2024-02-19T00:00:00",
          "2024-02-20T00:00:00",
          "2024-02-21T00:00:00",
          "2024-02-22T00:00:00",
          "2024-02-23T00:00:00",
          "2024-02-24T00:00:00",
          "2024-02-25T00:00:00",
          "2024-02-26T00:00:00",
          "2024-02-27T00:00:00",
          "2024-02-28T00:00:00",
          "2024-02-29T00:00:00"
         ],
         "title": {
          "text": "Bi-Weekly"
         }
        },
        "xaxis2": {
         "anchor": "y2",
         "domain": [
          0,
          1
         ],
         "tickangle": 45,
         "tickmode": "array",
         "ticktext": [
          "31-Jan",
          "01-Feb",
          "02-Feb",
          "03-Feb",
          "04-Feb",
          "05-Feb",
          "06-Feb",
          "07-Feb",
          "08-Feb",
          "09-Feb",
          "10-Feb",
          "11-Feb",
          "12-Feb",
          "13-Feb",
          "14-Feb",
          "15-Feb",
          "16-Feb",
          "17-Feb",
          "18-Feb",
          "19-Feb",
          "20-Feb",
          "21-Feb",
          "22-Feb",
          "23-Feb",
          "24-Feb",
          "25-Feb",
          "26-Feb",
          "27-Feb",
          "28-Feb",
          "29-Feb"
         ],
         "tickvals": [
          "2024-01-31T00:00:00",
          "2024-02-01T00:00:00",
          "2024-02-02T00:00:00",
          "2024-02-03T00:00:00",
          "2024-02-04T00:00:00",
          "2024-02-05T00:00:00",
          "2024-02-06T00:00:00",
          "2024-02-07T00:00:00",
          "2024-02-08T00:00:00",
          "2024-02-09T00:00:00",
          "2024-02-10T00:00:00",
          "2024-02-11T00:00:00",
          "2024-02-12T00:00:00",
          "2024-02-13T00:00:00",
          "2024-02-14T00:00:00",
          "2024-02-15T00:00:00",
          "2024-02-16T00:00:00",
          "2024-02-17T00:00:00",
          "2024-02-18T00:00:00",
          "2024-02-19T00:00:00",
          "2024-02-20T00:00:00",
          "2024-02-21T00:00:00",
          "2024-02-22T00:00:00",
          "2024-02-23T00:00:00",
          "2024-02-24T00:00:00",
          "2024-02-25T00:00:00",
          "2024-02-26T00:00:00",
          "2024-02-27T00:00:00",
          "2024-02-28T00:00:00",
          "2024-02-29T00:00:00"
         ],
         "title": {
          "text": "Monthly"
         }
        },
        "xaxis3": {
         "anchor": "y3",
         "domain": [
          0,
          1
         ],
         "tickangle": 45,
         "tickmode": "array",
         "ticktext": [
          "24-Jan",
          "25-Jan",
          "26-Jan",
          "27-Jan",
          "28-Jan",
          "29-Jan",
          "30-Jan",
          "31-Jan",
          "01-Feb",
          "02-Feb",
          "03-Feb",
          "04-Feb",
          "05-Feb",
          "06-Feb",
          "07-Feb",
          "08-Feb",
          "09-Feb",
          "10-Feb",
          "11-Feb",
          "12-Feb",
          "13-Feb",
          "14-Feb",
          "15-Feb",
          "16-Feb",
          "17-Feb",
          "18-Feb",
          "19-Feb",
          "20-Feb",
          "21-Feb",
          "22-Feb",
          "23-Feb",
          "24-Feb",
          "25-Feb",
          "26-Feb",
          "27-Feb",
          "28-Feb",
          "29-Feb"
         ],
         "tickvals": [
          "2024-01-24T00:00:00",
          "2024-01-25T00:00:00",
          "2024-01-26T00:00:00",
          "2024-01-27T00:00:00",
          "2024-01-28T00:00:00",
          "2024-01-29T00:00:00",
          "2024-01-30T00:00:00",
          "2024-01-31T00:00:00",
          "2024-02-01T00:00:00",
          "2024-02-02T00:00:00",
          "2024-02-03T00:00:00",
          "2024-02-04T00:00:00",
          "2024-02-05T00:00:00",
          "2024-02-06T00:00:00",
          "2024-02-07T00:00:00",
          "2024-02-08T00:00:00",
          "2024-02-09T00:00:00",
          "2024-02-10T00:00:00",
          "2024-02-11T00:00:00",
          "2024-02-12T00:00:00",
          "2024-02-13T00:00:00",
          "2024-02-14T00:00:00",
          "2024-02-15T00:00:00",
          "2024-02-16T00:00:00",
          "2024-02-17T00:00:00",
          "2024-02-18T00:00:00",
          "2024-02-19T00:00:00",
          "2024-02-20T00:00:00",
          "2024-02-21T00:00:00",
          "2024-02-22T00:00:00",
          "2024-02-23T00:00:00",
          "2024-02-24T00:00:00",
          "2024-02-25T00:00:00",
          "2024-02-26T00:00:00",
          "2024-02-27T00:00:00",
          "2024-02-28T00:00:00",
          "2024-02-29T00:00:00"
         ],
         "title": {
          "text": "Quarterly"
         }
        },
        "yaxis": {
         "anchor": "x",
         "domain": [
          0.7666666666666666,
          0.9999999999999999
         ],
         "title": {
          "text": "Hour"
         }
        },
        "yaxis2": {
         "anchor": "x2",
         "domain": [
          0.3833333333333333,
          0.6166666666666666
         ],
         "title": {
          "text": "Hour"
         }
        },
        "yaxis3": {
         "anchor": "x3",
         "domain": [
          0,
          0.2333333333333333
         ],
         "title": {
          "text": "Hour"
         }
        }
       }
      }
     },
     "metadata": {},
     "output_type": "display_data"
    }
   ],
   "source": [
    "num_date_dict = {\n",
    "    \"Bi-Weekly\": 14,\n",
    "    \"Monthly\": 30,\n",
    "    \"Quarterly\": 90,\n",
    "}\n",
    "\n",
    "fully_report_graph = creat_fully_report_graph(\n",
    "    num_date_dict,\n",
    "    project_hour_per_day_df,\n",
    "    fig_title=\"Project Hour Per Day Report\",\n",
    ")\n",
    "fully_report_graph.show()\n",
    "fully_report_graph.write_html(\"Project Hour Per Day Report.html\")"
   ]
  },
  {
   "cell_type": "code",
   "execution_count": null,
   "metadata": {},
   "outputs": [],
   "source": []
  }
 ],
 "metadata": {
  "kernelspec": {
   "display_name": "base",
   "language": "python",
   "name": "python3"
  },
  "language_info": {
   "codemirror_mode": {
    "name": "ipython",
    "version": 3
   },
   "file_extension": ".py",
   "mimetype": "text/x-python",
   "name": "python",
   "nbconvert_exporter": "python",
   "pygments_lexer": "ipython3",
   "version": "3.11.5"
  }
 },
 "nbformat": 4,
 "nbformat_minor": 2
}
